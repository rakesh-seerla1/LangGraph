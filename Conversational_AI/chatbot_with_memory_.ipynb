{
  "nbformat": 4,
  "nbformat_minor": 0,
  "metadata": {
    "colab": {
      "provenance": []
    },
    "kernelspec": {
      "name": "python3",
      "display_name": "Python 3"
    },
    "language_info": {
      "name": "python"
    },
    "widgets": {
      "application/vnd.jupyter.widget-state+json": {
        "2c7eff4f985c4b7d8c7dc60327f4731c": {
          "model_module": "@jupyter-widgets/controls",
          "model_name": "HBoxModel",
          "model_module_version": "1.5.0",
          "state": {
            "_dom_classes": [],
            "_model_module": "@jupyter-widgets/controls",
            "_model_module_version": "1.5.0",
            "_model_name": "HBoxModel",
            "_view_count": null,
            "_view_module": "@jupyter-widgets/controls",
            "_view_module_version": "1.5.0",
            "_view_name": "HBoxView",
            "box_style": "",
            "children": [
              "IPY_MODEL_bd53e7a806944ec0a015660af47da973",
              "IPY_MODEL_b5accdf55afc403fae0a271262bb0168",
              "IPY_MODEL_f9525edef0f5421db29ba2c13a7b87e1"
            ],
            "layout": "IPY_MODEL_afaa9b23f5c342a5b8a279d9af280f02"
          }
        },
        "bd53e7a806944ec0a015660af47da973": {
          "model_module": "@jupyter-widgets/controls",
          "model_name": "HTMLModel",
          "model_module_version": "1.5.0",
          "state": {
            "_dom_classes": [],
            "_model_module": "@jupyter-widgets/controls",
            "_model_module_version": "1.5.0",
            "_model_name": "HTMLModel",
            "_view_count": null,
            "_view_module": "@jupyter-widgets/controls",
            "_view_module_version": "1.5.0",
            "_view_name": "HTMLView",
            "description": "",
            "description_tooltip": null,
            "layout": "IPY_MODEL_28ef6c0e6c9c4b10a9a3b7c8ed1b83b8",
            "placeholder": "​",
            "style": "IPY_MODEL_2cd7a48849a045a3a605bdf2693907b4",
            "value": "tokenizer_config.json: 100%"
          }
        },
        "b5accdf55afc403fae0a271262bb0168": {
          "model_module": "@jupyter-widgets/controls",
          "model_name": "FloatProgressModel",
          "model_module_version": "1.5.0",
          "state": {
            "_dom_classes": [],
            "_model_module": "@jupyter-widgets/controls",
            "_model_module_version": "1.5.0",
            "_model_name": "FloatProgressModel",
            "_view_count": null,
            "_view_module": "@jupyter-widgets/controls",
            "_view_module_version": "1.5.0",
            "_view_name": "ProgressView",
            "bar_style": "success",
            "description": "",
            "description_tooltip": null,
            "layout": "IPY_MODEL_1f0676a83c794fe89c31bd10a0e3a9a5",
            "max": 26,
            "min": 0,
            "orientation": "horizontal",
            "style": "IPY_MODEL_b70188e17292491889868a105d8b98ab",
            "value": 26
          }
        },
        "f9525edef0f5421db29ba2c13a7b87e1": {
          "model_module": "@jupyter-widgets/controls",
          "model_name": "HTMLModel",
          "model_module_version": "1.5.0",
          "state": {
            "_dom_classes": [],
            "_model_module": "@jupyter-widgets/controls",
            "_model_module_version": "1.5.0",
            "_model_name": "HTMLModel",
            "_view_count": null,
            "_view_module": "@jupyter-widgets/controls",
            "_view_module_version": "1.5.0",
            "_view_name": "HTMLView",
            "description": "",
            "description_tooltip": null,
            "layout": "IPY_MODEL_06e767a23c8c44948905f7f9fb005c86",
            "placeholder": "​",
            "style": "IPY_MODEL_0b7a12096396480793555edc70603569",
            "value": " 26.0/26.0 [00:00&lt;00:00, 2.00kB/s]"
          }
        },
        "afaa9b23f5c342a5b8a279d9af280f02": {
          "model_module": "@jupyter-widgets/base",
          "model_name": "LayoutModel",
          "model_module_version": "1.2.0",
          "state": {
            "_model_module": "@jupyter-widgets/base",
            "_model_module_version": "1.2.0",
            "_model_name": "LayoutModel",
            "_view_count": null,
            "_view_module": "@jupyter-widgets/base",
            "_view_module_version": "1.2.0",
            "_view_name": "LayoutView",
            "align_content": null,
            "align_items": null,
            "align_self": null,
            "border": null,
            "bottom": null,
            "display": null,
            "flex": null,
            "flex_flow": null,
            "grid_area": null,
            "grid_auto_columns": null,
            "grid_auto_flow": null,
            "grid_auto_rows": null,
            "grid_column": null,
            "grid_gap": null,
            "grid_row": null,
            "grid_template_areas": null,
            "grid_template_columns": null,
            "grid_template_rows": null,
            "height": null,
            "justify_content": null,
            "justify_items": null,
            "left": null,
            "margin": null,
            "max_height": null,
            "max_width": null,
            "min_height": null,
            "min_width": null,
            "object_fit": null,
            "object_position": null,
            "order": null,
            "overflow": null,
            "overflow_x": null,
            "overflow_y": null,
            "padding": null,
            "right": null,
            "top": null,
            "visibility": null,
            "width": null
          }
        },
        "28ef6c0e6c9c4b10a9a3b7c8ed1b83b8": {
          "model_module": "@jupyter-widgets/base",
          "model_name": "LayoutModel",
          "model_module_version": "1.2.0",
          "state": {
            "_model_module": "@jupyter-widgets/base",
            "_model_module_version": "1.2.0",
            "_model_name": "LayoutModel",
            "_view_count": null,
            "_view_module": "@jupyter-widgets/base",
            "_view_module_version": "1.2.0",
            "_view_name": "LayoutView",
            "align_content": null,
            "align_items": null,
            "align_self": null,
            "border": null,
            "bottom": null,
            "display": null,
            "flex": null,
            "flex_flow": null,
            "grid_area": null,
            "grid_auto_columns": null,
            "grid_auto_flow": null,
            "grid_auto_rows": null,
            "grid_column": null,
            "grid_gap": null,
            "grid_row": null,
            "grid_template_areas": null,
            "grid_template_columns": null,
            "grid_template_rows": null,
            "height": null,
            "justify_content": null,
            "justify_items": null,
            "left": null,
            "margin": null,
            "max_height": null,
            "max_width": null,
            "min_height": null,
            "min_width": null,
            "object_fit": null,
            "object_position": null,
            "order": null,
            "overflow": null,
            "overflow_x": null,
            "overflow_y": null,
            "padding": null,
            "right": null,
            "top": null,
            "visibility": null,
            "width": null
          }
        },
        "2cd7a48849a045a3a605bdf2693907b4": {
          "model_module": "@jupyter-widgets/controls",
          "model_name": "DescriptionStyleModel",
          "model_module_version": "1.5.0",
          "state": {
            "_model_module": "@jupyter-widgets/controls",
            "_model_module_version": "1.5.0",
            "_model_name": "DescriptionStyleModel",
            "_view_count": null,
            "_view_module": "@jupyter-widgets/base",
            "_view_module_version": "1.2.0",
            "_view_name": "StyleView",
            "description_width": ""
          }
        },
        "1f0676a83c794fe89c31bd10a0e3a9a5": {
          "model_module": "@jupyter-widgets/base",
          "model_name": "LayoutModel",
          "model_module_version": "1.2.0",
          "state": {
            "_model_module": "@jupyter-widgets/base",
            "_model_module_version": "1.2.0",
            "_model_name": "LayoutModel",
            "_view_count": null,
            "_view_module": "@jupyter-widgets/base",
            "_view_module_version": "1.2.0",
            "_view_name": "LayoutView",
            "align_content": null,
            "align_items": null,
            "align_self": null,
            "border": null,
            "bottom": null,
            "display": null,
            "flex": null,
            "flex_flow": null,
            "grid_area": null,
            "grid_auto_columns": null,
            "grid_auto_flow": null,
            "grid_auto_rows": null,
            "grid_column": null,
            "grid_gap": null,
            "grid_row": null,
            "grid_template_areas": null,
            "grid_template_columns": null,
            "grid_template_rows": null,
            "height": null,
            "justify_content": null,
            "justify_items": null,
            "left": null,
            "margin": null,
            "max_height": null,
            "max_width": null,
            "min_height": null,
            "min_width": null,
            "object_fit": null,
            "object_position": null,
            "order": null,
            "overflow": null,
            "overflow_x": null,
            "overflow_y": null,
            "padding": null,
            "right": null,
            "top": null,
            "visibility": null,
            "width": null
          }
        },
        "b70188e17292491889868a105d8b98ab": {
          "model_module": "@jupyter-widgets/controls",
          "model_name": "ProgressStyleModel",
          "model_module_version": "1.5.0",
          "state": {
            "_model_module": "@jupyter-widgets/controls",
            "_model_module_version": "1.5.0",
            "_model_name": "ProgressStyleModel",
            "_view_count": null,
            "_view_module": "@jupyter-widgets/base",
            "_view_module_version": "1.2.0",
            "_view_name": "StyleView",
            "bar_color": null,
            "description_width": ""
          }
        },
        "06e767a23c8c44948905f7f9fb005c86": {
          "model_module": "@jupyter-widgets/base",
          "model_name": "LayoutModel",
          "model_module_version": "1.2.0",
          "state": {
            "_model_module": "@jupyter-widgets/base",
            "_model_module_version": "1.2.0",
            "_model_name": "LayoutModel",
            "_view_count": null,
            "_view_module": "@jupyter-widgets/base",
            "_view_module_version": "1.2.0",
            "_view_name": "LayoutView",
            "align_content": null,
            "align_items": null,
            "align_self": null,
            "border": null,
            "bottom": null,
            "display": null,
            "flex": null,
            "flex_flow": null,
            "grid_area": null,
            "grid_auto_columns": null,
            "grid_auto_flow": null,
            "grid_auto_rows": null,
            "grid_column": null,
            "grid_gap": null,
            "grid_row": null,
            "grid_template_areas": null,
            "grid_template_columns": null,
            "grid_template_rows": null,
            "height": null,
            "justify_content": null,
            "justify_items": null,
            "left": null,
            "margin": null,
            "max_height": null,
            "max_width": null,
            "min_height": null,
            "min_width": null,
            "object_fit": null,
            "object_position": null,
            "order": null,
            "overflow": null,
            "overflow_x": null,
            "overflow_y": null,
            "padding": null,
            "right": null,
            "top": null,
            "visibility": null,
            "width": null
          }
        },
        "0b7a12096396480793555edc70603569": {
          "model_module": "@jupyter-widgets/controls",
          "model_name": "DescriptionStyleModel",
          "model_module_version": "1.5.0",
          "state": {
            "_model_module": "@jupyter-widgets/controls",
            "_model_module_version": "1.5.0",
            "_model_name": "DescriptionStyleModel",
            "_view_count": null,
            "_view_module": "@jupyter-widgets/base",
            "_view_module_version": "1.2.0",
            "_view_name": "StyleView",
            "description_width": ""
          }
        },
        "6e75d88401bd479bb3e6c877c5e7ec32": {
          "model_module": "@jupyter-widgets/controls",
          "model_name": "HBoxModel",
          "model_module_version": "1.5.0",
          "state": {
            "_dom_classes": [],
            "_model_module": "@jupyter-widgets/controls",
            "_model_module_version": "1.5.0",
            "_model_name": "HBoxModel",
            "_view_count": null,
            "_view_module": "@jupyter-widgets/controls",
            "_view_module_version": "1.5.0",
            "_view_name": "HBoxView",
            "box_style": "",
            "children": [
              "IPY_MODEL_c5de8a56e927476b85aabd6fcf835543",
              "IPY_MODEL_6891dd7bf7de48279e524b539107da92",
              "IPY_MODEL_07258efa4b424c9099f866fd343891c4"
            ],
            "layout": "IPY_MODEL_28931e30e3e547bfb5f6585a53306055"
          }
        },
        "c5de8a56e927476b85aabd6fcf835543": {
          "model_module": "@jupyter-widgets/controls",
          "model_name": "HTMLModel",
          "model_module_version": "1.5.0",
          "state": {
            "_dom_classes": [],
            "_model_module": "@jupyter-widgets/controls",
            "_model_module_version": "1.5.0",
            "_model_name": "HTMLModel",
            "_view_count": null,
            "_view_module": "@jupyter-widgets/controls",
            "_view_module_version": "1.5.0",
            "_view_name": "HTMLView",
            "description": "",
            "description_tooltip": null,
            "layout": "IPY_MODEL_a3aa512ebc1642ccb62401b875fe72ce",
            "placeholder": "​",
            "style": "IPY_MODEL_6ef58dc32fc149a6b7a49078b64295ac",
            "value": "vocab.json: 100%"
          }
        },
        "6891dd7bf7de48279e524b539107da92": {
          "model_module": "@jupyter-widgets/controls",
          "model_name": "FloatProgressModel",
          "model_module_version": "1.5.0",
          "state": {
            "_dom_classes": [],
            "_model_module": "@jupyter-widgets/controls",
            "_model_module_version": "1.5.0",
            "_model_name": "FloatProgressModel",
            "_view_count": null,
            "_view_module": "@jupyter-widgets/controls",
            "_view_module_version": "1.5.0",
            "_view_name": "ProgressView",
            "bar_style": "success",
            "description": "",
            "description_tooltip": null,
            "layout": "IPY_MODEL_d76a952e35e540bcb5ca564e02dd8ed4",
            "max": 1042301,
            "min": 0,
            "orientation": "horizontal",
            "style": "IPY_MODEL_037710118539455681bdb658a7cb7fba",
            "value": 1042301
          }
        },
        "07258efa4b424c9099f866fd343891c4": {
          "model_module": "@jupyter-widgets/controls",
          "model_name": "HTMLModel",
          "model_module_version": "1.5.0",
          "state": {
            "_dom_classes": [],
            "_model_module": "@jupyter-widgets/controls",
            "_model_module_version": "1.5.0",
            "_model_name": "HTMLModel",
            "_view_count": null,
            "_view_module": "@jupyter-widgets/controls",
            "_view_module_version": "1.5.0",
            "_view_name": "HTMLView",
            "description": "",
            "description_tooltip": null,
            "layout": "IPY_MODEL_ba2a624204ab45b685872c3a463def72",
            "placeholder": "​",
            "style": "IPY_MODEL_c81d3e0d7af8422490459d121b18981e",
            "value": " 1.04M/1.04M [00:00&lt;00:00, 4.19MB/s]"
          }
        },
        "28931e30e3e547bfb5f6585a53306055": {
          "model_module": "@jupyter-widgets/base",
          "model_name": "LayoutModel",
          "model_module_version": "1.2.0",
          "state": {
            "_model_module": "@jupyter-widgets/base",
            "_model_module_version": "1.2.0",
            "_model_name": "LayoutModel",
            "_view_count": null,
            "_view_module": "@jupyter-widgets/base",
            "_view_module_version": "1.2.0",
            "_view_name": "LayoutView",
            "align_content": null,
            "align_items": null,
            "align_self": null,
            "border": null,
            "bottom": null,
            "display": null,
            "flex": null,
            "flex_flow": null,
            "grid_area": null,
            "grid_auto_columns": null,
            "grid_auto_flow": null,
            "grid_auto_rows": null,
            "grid_column": null,
            "grid_gap": null,
            "grid_row": null,
            "grid_template_areas": null,
            "grid_template_columns": null,
            "grid_template_rows": null,
            "height": null,
            "justify_content": null,
            "justify_items": null,
            "left": null,
            "margin": null,
            "max_height": null,
            "max_width": null,
            "min_height": null,
            "min_width": null,
            "object_fit": null,
            "object_position": null,
            "order": null,
            "overflow": null,
            "overflow_x": null,
            "overflow_y": null,
            "padding": null,
            "right": null,
            "top": null,
            "visibility": null,
            "width": null
          }
        },
        "a3aa512ebc1642ccb62401b875fe72ce": {
          "model_module": "@jupyter-widgets/base",
          "model_name": "LayoutModel",
          "model_module_version": "1.2.0",
          "state": {
            "_model_module": "@jupyter-widgets/base",
            "_model_module_version": "1.2.0",
            "_model_name": "LayoutModel",
            "_view_count": null,
            "_view_module": "@jupyter-widgets/base",
            "_view_module_version": "1.2.0",
            "_view_name": "LayoutView",
            "align_content": null,
            "align_items": null,
            "align_self": null,
            "border": null,
            "bottom": null,
            "display": null,
            "flex": null,
            "flex_flow": null,
            "grid_area": null,
            "grid_auto_columns": null,
            "grid_auto_flow": null,
            "grid_auto_rows": null,
            "grid_column": null,
            "grid_gap": null,
            "grid_row": null,
            "grid_template_areas": null,
            "grid_template_columns": null,
            "grid_template_rows": null,
            "height": null,
            "justify_content": null,
            "justify_items": null,
            "left": null,
            "margin": null,
            "max_height": null,
            "max_width": null,
            "min_height": null,
            "min_width": null,
            "object_fit": null,
            "object_position": null,
            "order": null,
            "overflow": null,
            "overflow_x": null,
            "overflow_y": null,
            "padding": null,
            "right": null,
            "top": null,
            "visibility": null,
            "width": null
          }
        },
        "6ef58dc32fc149a6b7a49078b64295ac": {
          "model_module": "@jupyter-widgets/controls",
          "model_name": "DescriptionStyleModel",
          "model_module_version": "1.5.0",
          "state": {
            "_model_module": "@jupyter-widgets/controls",
            "_model_module_version": "1.5.0",
            "_model_name": "DescriptionStyleModel",
            "_view_count": null,
            "_view_module": "@jupyter-widgets/base",
            "_view_module_version": "1.2.0",
            "_view_name": "StyleView",
            "description_width": ""
          }
        },
        "d76a952e35e540bcb5ca564e02dd8ed4": {
          "model_module": "@jupyter-widgets/base",
          "model_name": "LayoutModel",
          "model_module_version": "1.2.0",
          "state": {
            "_model_module": "@jupyter-widgets/base",
            "_model_module_version": "1.2.0",
            "_model_name": "LayoutModel",
            "_view_count": null,
            "_view_module": "@jupyter-widgets/base",
            "_view_module_version": "1.2.0",
            "_view_name": "LayoutView",
            "align_content": null,
            "align_items": null,
            "align_self": null,
            "border": null,
            "bottom": null,
            "display": null,
            "flex": null,
            "flex_flow": null,
            "grid_area": null,
            "grid_auto_columns": null,
            "grid_auto_flow": null,
            "grid_auto_rows": null,
            "grid_column": null,
            "grid_gap": null,
            "grid_row": null,
            "grid_template_areas": null,
            "grid_template_columns": null,
            "grid_template_rows": null,
            "height": null,
            "justify_content": null,
            "justify_items": null,
            "left": null,
            "margin": null,
            "max_height": null,
            "max_width": null,
            "min_height": null,
            "min_width": null,
            "object_fit": null,
            "object_position": null,
            "order": null,
            "overflow": null,
            "overflow_x": null,
            "overflow_y": null,
            "padding": null,
            "right": null,
            "top": null,
            "visibility": null,
            "width": null
          }
        },
        "037710118539455681bdb658a7cb7fba": {
          "model_module": "@jupyter-widgets/controls",
          "model_name": "ProgressStyleModel",
          "model_module_version": "1.5.0",
          "state": {
            "_model_module": "@jupyter-widgets/controls",
            "_model_module_version": "1.5.0",
            "_model_name": "ProgressStyleModel",
            "_view_count": null,
            "_view_module": "@jupyter-widgets/base",
            "_view_module_version": "1.2.0",
            "_view_name": "StyleView",
            "bar_color": null,
            "description_width": ""
          }
        },
        "ba2a624204ab45b685872c3a463def72": {
          "model_module": "@jupyter-widgets/base",
          "model_name": "LayoutModel",
          "model_module_version": "1.2.0",
          "state": {
            "_model_module": "@jupyter-widgets/base",
            "_model_module_version": "1.2.0",
            "_model_name": "LayoutModel",
            "_view_count": null,
            "_view_module": "@jupyter-widgets/base",
            "_view_module_version": "1.2.0",
            "_view_name": "LayoutView",
            "align_content": null,
            "align_items": null,
            "align_self": null,
            "border": null,
            "bottom": null,
            "display": null,
            "flex": null,
            "flex_flow": null,
            "grid_area": null,
            "grid_auto_columns": null,
            "grid_auto_flow": null,
            "grid_auto_rows": null,
            "grid_column": null,
            "grid_gap": null,
            "grid_row": null,
            "grid_template_areas": null,
            "grid_template_columns": null,
            "grid_template_rows": null,
            "height": null,
            "justify_content": null,
            "justify_items": null,
            "left": null,
            "margin": null,
            "max_height": null,
            "max_width": null,
            "min_height": null,
            "min_width": null,
            "object_fit": null,
            "object_position": null,
            "order": null,
            "overflow": null,
            "overflow_x": null,
            "overflow_y": null,
            "padding": null,
            "right": null,
            "top": null,
            "visibility": null,
            "width": null
          }
        },
        "c81d3e0d7af8422490459d121b18981e": {
          "model_module": "@jupyter-widgets/controls",
          "model_name": "DescriptionStyleModel",
          "model_module_version": "1.5.0",
          "state": {
            "_model_module": "@jupyter-widgets/controls",
            "_model_module_version": "1.5.0",
            "_model_name": "DescriptionStyleModel",
            "_view_count": null,
            "_view_module": "@jupyter-widgets/base",
            "_view_module_version": "1.2.0",
            "_view_name": "StyleView",
            "description_width": ""
          }
        },
        "05cffe3eb19a40ecb6038826d1e8bb87": {
          "model_module": "@jupyter-widgets/controls",
          "model_name": "HBoxModel",
          "model_module_version": "1.5.0",
          "state": {
            "_dom_classes": [],
            "_model_module": "@jupyter-widgets/controls",
            "_model_module_version": "1.5.0",
            "_model_name": "HBoxModel",
            "_view_count": null,
            "_view_module": "@jupyter-widgets/controls",
            "_view_module_version": "1.5.0",
            "_view_name": "HBoxView",
            "box_style": "",
            "children": [
              "IPY_MODEL_57691b459a594ef59ddade26c75744cb",
              "IPY_MODEL_a13ca23cdfdc4fbd902738f59e4f0f1d",
              "IPY_MODEL_a9b59278c6ec4222982a720f8840f659"
            ],
            "layout": "IPY_MODEL_545ef4ac68224b258f72cf19dc964bb3"
          }
        },
        "57691b459a594ef59ddade26c75744cb": {
          "model_module": "@jupyter-widgets/controls",
          "model_name": "HTMLModel",
          "model_module_version": "1.5.0",
          "state": {
            "_dom_classes": [],
            "_model_module": "@jupyter-widgets/controls",
            "_model_module_version": "1.5.0",
            "_model_name": "HTMLModel",
            "_view_count": null,
            "_view_module": "@jupyter-widgets/controls",
            "_view_module_version": "1.5.0",
            "_view_name": "HTMLView",
            "description": "",
            "description_tooltip": null,
            "layout": "IPY_MODEL_f6b9e4a1190d4e55b9ad04c57d7c666c",
            "placeholder": "​",
            "style": "IPY_MODEL_6c2b22c166e84301810ea091db205c62",
            "value": "merges.txt: 100%"
          }
        },
        "a13ca23cdfdc4fbd902738f59e4f0f1d": {
          "model_module": "@jupyter-widgets/controls",
          "model_name": "FloatProgressModel",
          "model_module_version": "1.5.0",
          "state": {
            "_dom_classes": [],
            "_model_module": "@jupyter-widgets/controls",
            "_model_module_version": "1.5.0",
            "_model_name": "FloatProgressModel",
            "_view_count": null,
            "_view_module": "@jupyter-widgets/controls",
            "_view_module_version": "1.5.0",
            "_view_name": "ProgressView",
            "bar_style": "success",
            "description": "",
            "description_tooltip": null,
            "layout": "IPY_MODEL_9aef64a6a19a4492b241ede3bcf84e4f",
            "max": 456318,
            "min": 0,
            "orientation": "horizontal",
            "style": "IPY_MODEL_20223a0925e34a3e8ab0aa85ee68686e",
            "value": 456318
          }
        },
        "a9b59278c6ec4222982a720f8840f659": {
          "model_module": "@jupyter-widgets/controls",
          "model_name": "HTMLModel",
          "model_module_version": "1.5.0",
          "state": {
            "_dom_classes": [],
            "_model_module": "@jupyter-widgets/controls",
            "_model_module_version": "1.5.0",
            "_model_name": "HTMLModel",
            "_view_count": null,
            "_view_module": "@jupyter-widgets/controls",
            "_view_module_version": "1.5.0",
            "_view_name": "HTMLView",
            "description": "",
            "description_tooltip": null,
            "layout": "IPY_MODEL_c0983e86e189422890d1b09c06c515b2",
            "placeholder": "​",
            "style": "IPY_MODEL_d822f8efa0344b149c8a75baeb6bcedc",
            "value": " 456k/456k [00:00&lt;00:00, 2.65MB/s]"
          }
        },
        "545ef4ac68224b258f72cf19dc964bb3": {
          "model_module": "@jupyter-widgets/base",
          "model_name": "LayoutModel",
          "model_module_version": "1.2.0",
          "state": {
            "_model_module": "@jupyter-widgets/base",
            "_model_module_version": "1.2.0",
            "_model_name": "LayoutModel",
            "_view_count": null,
            "_view_module": "@jupyter-widgets/base",
            "_view_module_version": "1.2.0",
            "_view_name": "LayoutView",
            "align_content": null,
            "align_items": null,
            "align_self": null,
            "border": null,
            "bottom": null,
            "display": null,
            "flex": null,
            "flex_flow": null,
            "grid_area": null,
            "grid_auto_columns": null,
            "grid_auto_flow": null,
            "grid_auto_rows": null,
            "grid_column": null,
            "grid_gap": null,
            "grid_row": null,
            "grid_template_areas": null,
            "grid_template_columns": null,
            "grid_template_rows": null,
            "height": null,
            "justify_content": null,
            "justify_items": null,
            "left": null,
            "margin": null,
            "max_height": null,
            "max_width": null,
            "min_height": null,
            "min_width": null,
            "object_fit": null,
            "object_position": null,
            "order": null,
            "overflow": null,
            "overflow_x": null,
            "overflow_y": null,
            "padding": null,
            "right": null,
            "top": null,
            "visibility": null,
            "width": null
          }
        },
        "f6b9e4a1190d4e55b9ad04c57d7c666c": {
          "model_module": "@jupyter-widgets/base",
          "model_name": "LayoutModel",
          "model_module_version": "1.2.0",
          "state": {
            "_model_module": "@jupyter-widgets/base",
            "_model_module_version": "1.2.0",
            "_model_name": "LayoutModel",
            "_view_count": null,
            "_view_module": "@jupyter-widgets/base",
            "_view_module_version": "1.2.0",
            "_view_name": "LayoutView",
            "align_content": null,
            "align_items": null,
            "align_self": null,
            "border": null,
            "bottom": null,
            "display": null,
            "flex": null,
            "flex_flow": null,
            "grid_area": null,
            "grid_auto_columns": null,
            "grid_auto_flow": null,
            "grid_auto_rows": null,
            "grid_column": null,
            "grid_gap": null,
            "grid_row": null,
            "grid_template_areas": null,
            "grid_template_columns": null,
            "grid_template_rows": null,
            "height": null,
            "justify_content": null,
            "justify_items": null,
            "left": null,
            "margin": null,
            "max_height": null,
            "max_width": null,
            "min_height": null,
            "min_width": null,
            "object_fit": null,
            "object_position": null,
            "order": null,
            "overflow": null,
            "overflow_x": null,
            "overflow_y": null,
            "padding": null,
            "right": null,
            "top": null,
            "visibility": null,
            "width": null
          }
        },
        "6c2b22c166e84301810ea091db205c62": {
          "model_module": "@jupyter-widgets/controls",
          "model_name": "DescriptionStyleModel",
          "model_module_version": "1.5.0",
          "state": {
            "_model_module": "@jupyter-widgets/controls",
            "_model_module_version": "1.5.0",
            "_model_name": "DescriptionStyleModel",
            "_view_count": null,
            "_view_module": "@jupyter-widgets/base",
            "_view_module_version": "1.2.0",
            "_view_name": "StyleView",
            "description_width": ""
          }
        },
        "9aef64a6a19a4492b241ede3bcf84e4f": {
          "model_module": "@jupyter-widgets/base",
          "model_name": "LayoutModel",
          "model_module_version": "1.2.0",
          "state": {
            "_model_module": "@jupyter-widgets/base",
            "_model_module_version": "1.2.0",
            "_model_name": "LayoutModel",
            "_view_count": null,
            "_view_module": "@jupyter-widgets/base",
            "_view_module_version": "1.2.0",
            "_view_name": "LayoutView",
            "align_content": null,
            "align_items": null,
            "align_self": null,
            "border": null,
            "bottom": null,
            "display": null,
            "flex": null,
            "flex_flow": null,
            "grid_area": null,
            "grid_auto_columns": null,
            "grid_auto_flow": null,
            "grid_auto_rows": null,
            "grid_column": null,
            "grid_gap": null,
            "grid_row": null,
            "grid_template_areas": null,
            "grid_template_columns": null,
            "grid_template_rows": null,
            "height": null,
            "justify_content": null,
            "justify_items": null,
            "left": null,
            "margin": null,
            "max_height": null,
            "max_width": null,
            "min_height": null,
            "min_width": null,
            "object_fit": null,
            "object_position": null,
            "order": null,
            "overflow": null,
            "overflow_x": null,
            "overflow_y": null,
            "padding": null,
            "right": null,
            "top": null,
            "visibility": null,
            "width": null
          }
        },
        "20223a0925e34a3e8ab0aa85ee68686e": {
          "model_module": "@jupyter-widgets/controls",
          "model_name": "ProgressStyleModel",
          "model_module_version": "1.5.0",
          "state": {
            "_model_module": "@jupyter-widgets/controls",
            "_model_module_version": "1.5.0",
            "_model_name": "ProgressStyleModel",
            "_view_count": null,
            "_view_module": "@jupyter-widgets/base",
            "_view_module_version": "1.2.0",
            "_view_name": "StyleView",
            "bar_color": null,
            "description_width": ""
          }
        },
        "c0983e86e189422890d1b09c06c515b2": {
          "model_module": "@jupyter-widgets/base",
          "model_name": "LayoutModel",
          "model_module_version": "1.2.0",
          "state": {
            "_model_module": "@jupyter-widgets/base",
            "_model_module_version": "1.2.0",
            "_model_name": "LayoutModel",
            "_view_count": null,
            "_view_module": "@jupyter-widgets/base",
            "_view_module_version": "1.2.0",
            "_view_name": "LayoutView",
            "align_content": null,
            "align_items": null,
            "align_self": null,
            "border": null,
            "bottom": null,
            "display": null,
            "flex": null,
            "flex_flow": null,
            "grid_area": null,
            "grid_auto_columns": null,
            "grid_auto_flow": null,
            "grid_auto_rows": null,
            "grid_column": null,
            "grid_gap": null,
            "grid_row": null,
            "grid_template_areas": null,
            "grid_template_columns": null,
            "grid_template_rows": null,
            "height": null,
            "justify_content": null,
            "justify_items": null,
            "left": null,
            "margin": null,
            "max_height": null,
            "max_width": null,
            "min_height": null,
            "min_width": null,
            "object_fit": null,
            "object_position": null,
            "order": null,
            "overflow": null,
            "overflow_x": null,
            "overflow_y": null,
            "padding": null,
            "right": null,
            "top": null,
            "visibility": null,
            "width": null
          }
        },
        "d822f8efa0344b149c8a75baeb6bcedc": {
          "model_module": "@jupyter-widgets/controls",
          "model_name": "DescriptionStyleModel",
          "model_module_version": "1.5.0",
          "state": {
            "_model_module": "@jupyter-widgets/controls",
            "_model_module_version": "1.5.0",
            "_model_name": "DescriptionStyleModel",
            "_view_count": null,
            "_view_module": "@jupyter-widgets/base",
            "_view_module_version": "1.2.0",
            "_view_name": "StyleView",
            "description_width": ""
          }
        },
        "10ba68c094194d6ebdf25f77079f94a1": {
          "model_module": "@jupyter-widgets/controls",
          "model_name": "HBoxModel",
          "model_module_version": "1.5.0",
          "state": {
            "_dom_classes": [],
            "_model_module": "@jupyter-widgets/controls",
            "_model_module_version": "1.5.0",
            "_model_name": "HBoxModel",
            "_view_count": null,
            "_view_module": "@jupyter-widgets/controls",
            "_view_module_version": "1.5.0",
            "_view_name": "HBoxView",
            "box_style": "",
            "children": [
              "IPY_MODEL_d6bf72ca860e4682aab6068f5ae2d05d",
              "IPY_MODEL_a9094e46a8df43dbae6a0b15207107f4",
              "IPY_MODEL_6c8f913bc7ee4b6e97027f2e4ea4f01c"
            ],
            "layout": "IPY_MODEL_c0767daffa26452c874d95e35a150de3"
          }
        },
        "d6bf72ca860e4682aab6068f5ae2d05d": {
          "model_module": "@jupyter-widgets/controls",
          "model_name": "HTMLModel",
          "model_module_version": "1.5.0",
          "state": {
            "_dom_classes": [],
            "_model_module": "@jupyter-widgets/controls",
            "_model_module_version": "1.5.0",
            "_model_name": "HTMLModel",
            "_view_count": null,
            "_view_module": "@jupyter-widgets/controls",
            "_view_module_version": "1.5.0",
            "_view_name": "HTMLView",
            "description": "",
            "description_tooltip": null,
            "layout": "IPY_MODEL_20f2696880154ac9a47a9aedf4e51cba",
            "placeholder": "​",
            "style": "IPY_MODEL_c689374716a6486e9ded36d97597f9bb",
            "value": "tokenizer.json: 100%"
          }
        },
        "a9094e46a8df43dbae6a0b15207107f4": {
          "model_module": "@jupyter-widgets/controls",
          "model_name": "FloatProgressModel",
          "model_module_version": "1.5.0",
          "state": {
            "_dom_classes": [],
            "_model_module": "@jupyter-widgets/controls",
            "_model_module_version": "1.5.0",
            "_model_name": "FloatProgressModel",
            "_view_count": null,
            "_view_module": "@jupyter-widgets/controls",
            "_view_module_version": "1.5.0",
            "_view_name": "ProgressView",
            "bar_style": "success",
            "description": "",
            "description_tooltip": null,
            "layout": "IPY_MODEL_d8e1f37364c347a89066e338a6d7916f",
            "max": 1355256,
            "min": 0,
            "orientation": "horizontal",
            "style": "IPY_MODEL_cca08e7fdd2f4164a35beaf1fa93724f",
            "value": 1355256
          }
        },
        "6c8f913bc7ee4b6e97027f2e4ea4f01c": {
          "model_module": "@jupyter-widgets/controls",
          "model_name": "HTMLModel",
          "model_module_version": "1.5.0",
          "state": {
            "_dom_classes": [],
            "_model_module": "@jupyter-widgets/controls",
            "_model_module_version": "1.5.0",
            "_model_name": "HTMLModel",
            "_view_count": null,
            "_view_module": "@jupyter-widgets/controls",
            "_view_module_version": "1.5.0",
            "_view_name": "HTMLView",
            "description": "",
            "description_tooltip": null,
            "layout": "IPY_MODEL_5c8445adf6d846d1998e7d95e1f9e72d",
            "placeholder": "​",
            "style": "IPY_MODEL_878458e5f4fc4764a71e8a37c8d13d51",
            "value": " 1.36M/1.36M [00:00&lt;00:00, 15.3MB/s]"
          }
        },
        "c0767daffa26452c874d95e35a150de3": {
          "model_module": "@jupyter-widgets/base",
          "model_name": "LayoutModel",
          "model_module_version": "1.2.0",
          "state": {
            "_model_module": "@jupyter-widgets/base",
            "_model_module_version": "1.2.0",
            "_model_name": "LayoutModel",
            "_view_count": null,
            "_view_module": "@jupyter-widgets/base",
            "_view_module_version": "1.2.0",
            "_view_name": "LayoutView",
            "align_content": null,
            "align_items": null,
            "align_self": null,
            "border": null,
            "bottom": null,
            "display": null,
            "flex": null,
            "flex_flow": null,
            "grid_area": null,
            "grid_auto_columns": null,
            "grid_auto_flow": null,
            "grid_auto_rows": null,
            "grid_column": null,
            "grid_gap": null,
            "grid_row": null,
            "grid_template_areas": null,
            "grid_template_columns": null,
            "grid_template_rows": null,
            "height": null,
            "justify_content": null,
            "justify_items": null,
            "left": null,
            "margin": null,
            "max_height": null,
            "max_width": null,
            "min_height": null,
            "min_width": null,
            "object_fit": null,
            "object_position": null,
            "order": null,
            "overflow": null,
            "overflow_x": null,
            "overflow_y": null,
            "padding": null,
            "right": null,
            "top": null,
            "visibility": null,
            "width": null
          }
        },
        "20f2696880154ac9a47a9aedf4e51cba": {
          "model_module": "@jupyter-widgets/base",
          "model_name": "LayoutModel",
          "model_module_version": "1.2.0",
          "state": {
            "_model_module": "@jupyter-widgets/base",
            "_model_module_version": "1.2.0",
            "_model_name": "LayoutModel",
            "_view_count": null,
            "_view_module": "@jupyter-widgets/base",
            "_view_module_version": "1.2.0",
            "_view_name": "LayoutView",
            "align_content": null,
            "align_items": null,
            "align_self": null,
            "border": null,
            "bottom": null,
            "display": null,
            "flex": null,
            "flex_flow": null,
            "grid_area": null,
            "grid_auto_columns": null,
            "grid_auto_flow": null,
            "grid_auto_rows": null,
            "grid_column": null,
            "grid_gap": null,
            "grid_row": null,
            "grid_template_areas": null,
            "grid_template_columns": null,
            "grid_template_rows": null,
            "height": null,
            "justify_content": null,
            "justify_items": null,
            "left": null,
            "margin": null,
            "max_height": null,
            "max_width": null,
            "min_height": null,
            "min_width": null,
            "object_fit": null,
            "object_position": null,
            "order": null,
            "overflow": null,
            "overflow_x": null,
            "overflow_y": null,
            "padding": null,
            "right": null,
            "top": null,
            "visibility": null,
            "width": null
          }
        },
        "c689374716a6486e9ded36d97597f9bb": {
          "model_module": "@jupyter-widgets/controls",
          "model_name": "DescriptionStyleModel",
          "model_module_version": "1.5.0",
          "state": {
            "_model_module": "@jupyter-widgets/controls",
            "_model_module_version": "1.5.0",
            "_model_name": "DescriptionStyleModel",
            "_view_count": null,
            "_view_module": "@jupyter-widgets/base",
            "_view_module_version": "1.2.0",
            "_view_name": "StyleView",
            "description_width": ""
          }
        },
        "d8e1f37364c347a89066e338a6d7916f": {
          "model_module": "@jupyter-widgets/base",
          "model_name": "LayoutModel",
          "model_module_version": "1.2.0",
          "state": {
            "_model_module": "@jupyter-widgets/base",
            "_model_module_version": "1.2.0",
            "_model_name": "LayoutModel",
            "_view_count": null,
            "_view_module": "@jupyter-widgets/base",
            "_view_module_version": "1.2.0",
            "_view_name": "LayoutView",
            "align_content": null,
            "align_items": null,
            "align_self": null,
            "border": null,
            "bottom": null,
            "display": null,
            "flex": null,
            "flex_flow": null,
            "grid_area": null,
            "grid_auto_columns": null,
            "grid_auto_flow": null,
            "grid_auto_rows": null,
            "grid_column": null,
            "grid_gap": null,
            "grid_row": null,
            "grid_template_areas": null,
            "grid_template_columns": null,
            "grid_template_rows": null,
            "height": null,
            "justify_content": null,
            "justify_items": null,
            "left": null,
            "margin": null,
            "max_height": null,
            "max_width": null,
            "min_height": null,
            "min_width": null,
            "object_fit": null,
            "object_position": null,
            "order": null,
            "overflow": null,
            "overflow_x": null,
            "overflow_y": null,
            "padding": null,
            "right": null,
            "top": null,
            "visibility": null,
            "width": null
          }
        },
        "cca08e7fdd2f4164a35beaf1fa93724f": {
          "model_module": "@jupyter-widgets/controls",
          "model_name": "ProgressStyleModel",
          "model_module_version": "1.5.0",
          "state": {
            "_model_module": "@jupyter-widgets/controls",
            "_model_module_version": "1.5.0",
            "_model_name": "ProgressStyleModel",
            "_view_count": null,
            "_view_module": "@jupyter-widgets/base",
            "_view_module_version": "1.2.0",
            "_view_name": "StyleView",
            "bar_color": null,
            "description_width": ""
          }
        },
        "5c8445adf6d846d1998e7d95e1f9e72d": {
          "model_module": "@jupyter-widgets/base",
          "model_name": "LayoutModel",
          "model_module_version": "1.2.0",
          "state": {
            "_model_module": "@jupyter-widgets/base",
            "_model_module_version": "1.2.0",
            "_model_name": "LayoutModel",
            "_view_count": null,
            "_view_module": "@jupyter-widgets/base",
            "_view_module_version": "1.2.0",
            "_view_name": "LayoutView",
            "align_content": null,
            "align_items": null,
            "align_self": null,
            "border": null,
            "bottom": null,
            "display": null,
            "flex": null,
            "flex_flow": null,
            "grid_area": null,
            "grid_auto_columns": null,
            "grid_auto_flow": null,
            "grid_auto_rows": null,
            "grid_column": null,
            "grid_gap": null,
            "grid_row": null,
            "grid_template_areas": null,
            "grid_template_columns": null,
            "grid_template_rows": null,
            "height": null,
            "justify_content": null,
            "justify_items": null,
            "left": null,
            "margin": null,
            "max_height": null,
            "max_width": null,
            "min_height": null,
            "min_width": null,
            "object_fit": null,
            "object_position": null,
            "order": null,
            "overflow": null,
            "overflow_x": null,
            "overflow_y": null,
            "padding": null,
            "right": null,
            "top": null,
            "visibility": null,
            "width": null
          }
        },
        "878458e5f4fc4764a71e8a37c8d13d51": {
          "model_module": "@jupyter-widgets/controls",
          "model_name": "DescriptionStyleModel",
          "model_module_version": "1.5.0",
          "state": {
            "_model_module": "@jupyter-widgets/controls",
            "_model_module_version": "1.5.0",
            "_model_name": "DescriptionStyleModel",
            "_view_count": null,
            "_view_module": "@jupyter-widgets/base",
            "_view_module_version": "1.2.0",
            "_view_name": "StyleView",
            "description_width": ""
          }
        },
        "7d1ffe0a162247c19b60b0219d7babd8": {
          "model_module": "@jupyter-widgets/controls",
          "model_name": "HBoxModel",
          "model_module_version": "1.5.0",
          "state": {
            "_dom_classes": [],
            "_model_module": "@jupyter-widgets/controls",
            "_model_module_version": "1.5.0",
            "_model_name": "HBoxModel",
            "_view_count": null,
            "_view_module": "@jupyter-widgets/controls",
            "_view_module_version": "1.5.0",
            "_view_name": "HBoxView",
            "box_style": "",
            "children": [
              "IPY_MODEL_d6f2de1927e64892ac6053a3116eb6ee",
              "IPY_MODEL_100b817724d94422b810bd682a8ca897",
              "IPY_MODEL_c207fb6664a84536a46f9b90e0558427"
            ],
            "layout": "IPY_MODEL_3ad5cb888ceb4f95b4455ba6e83b7eea"
          }
        },
        "d6f2de1927e64892ac6053a3116eb6ee": {
          "model_module": "@jupyter-widgets/controls",
          "model_name": "HTMLModel",
          "model_module_version": "1.5.0",
          "state": {
            "_dom_classes": [],
            "_model_module": "@jupyter-widgets/controls",
            "_model_module_version": "1.5.0",
            "_model_name": "HTMLModel",
            "_view_count": null,
            "_view_module": "@jupyter-widgets/controls",
            "_view_module_version": "1.5.0",
            "_view_name": "HTMLView",
            "description": "",
            "description_tooltip": null,
            "layout": "IPY_MODEL_c0b92977d0d7423ab75f520c20f586a7",
            "placeholder": "​",
            "style": "IPY_MODEL_6c646035b5874fd6a3321325423bccd6",
            "value": "config.json: 100%"
          }
        },
        "100b817724d94422b810bd682a8ca897": {
          "model_module": "@jupyter-widgets/controls",
          "model_name": "FloatProgressModel",
          "model_module_version": "1.5.0",
          "state": {
            "_dom_classes": [],
            "_model_module": "@jupyter-widgets/controls",
            "_model_module_version": "1.5.0",
            "_model_name": "FloatProgressModel",
            "_view_count": null,
            "_view_module": "@jupyter-widgets/controls",
            "_view_module_version": "1.5.0",
            "_view_name": "ProgressView",
            "bar_style": "success",
            "description": "",
            "description_tooltip": null,
            "layout": "IPY_MODEL_66cba95e1db24c599eca49d8ae0ac12f",
            "max": 665,
            "min": 0,
            "orientation": "horizontal",
            "style": "IPY_MODEL_be59312ff4524898a86977391b361bd8",
            "value": 665
          }
        },
        "c207fb6664a84536a46f9b90e0558427": {
          "model_module": "@jupyter-widgets/controls",
          "model_name": "HTMLModel",
          "model_module_version": "1.5.0",
          "state": {
            "_dom_classes": [],
            "_model_module": "@jupyter-widgets/controls",
            "_model_module_version": "1.5.0",
            "_model_name": "HTMLModel",
            "_view_count": null,
            "_view_module": "@jupyter-widgets/controls",
            "_view_module_version": "1.5.0",
            "_view_name": "HTMLView",
            "description": "",
            "description_tooltip": null,
            "layout": "IPY_MODEL_7cf5d788cc634c63bd2f1c6e46415bf4",
            "placeholder": "​",
            "style": "IPY_MODEL_b0e256a57e494090ab5d0895b46a84ac",
            "value": " 665/665 [00:00&lt;00:00, 55.7kB/s]"
          }
        },
        "3ad5cb888ceb4f95b4455ba6e83b7eea": {
          "model_module": "@jupyter-widgets/base",
          "model_name": "LayoutModel",
          "model_module_version": "1.2.0",
          "state": {
            "_model_module": "@jupyter-widgets/base",
            "_model_module_version": "1.2.0",
            "_model_name": "LayoutModel",
            "_view_count": null,
            "_view_module": "@jupyter-widgets/base",
            "_view_module_version": "1.2.0",
            "_view_name": "LayoutView",
            "align_content": null,
            "align_items": null,
            "align_self": null,
            "border": null,
            "bottom": null,
            "display": null,
            "flex": null,
            "flex_flow": null,
            "grid_area": null,
            "grid_auto_columns": null,
            "grid_auto_flow": null,
            "grid_auto_rows": null,
            "grid_column": null,
            "grid_gap": null,
            "grid_row": null,
            "grid_template_areas": null,
            "grid_template_columns": null,
            "grid_template_rows": null,
            "height": null,
            "justify_content": null,
            "justify_items": null,
            "left": null,
            "margin": null,
            "max_height": null,
            "max_width": null,
            "min_height": null,
            "min_width": null,
            "object_fit": null,
            "object_position": null,
            "order": null,
            "overflow": null,
            "overflow_x": null,
            "overflow_y": null,
            "padding": null,
            "right": null,
            "top": null,
            "visibility": null,
            "width": null
          }
        },
        "c0b92977d0d7423ab75f520c20f586a7": {
          "model_module": "@jupyter-widgets/base",
          "model_name": "LayoutModel",
          "model_module_version": "1.2.0",
          "state": {
            "_model_module": "@jupyter-widgets/base",
            "_model_module_version": "1.2.0",
            "_model_name": "LayoutModel",
            "_view_count": null,
            "_view_module": "@jupyter-widgets/base",
            "_view_module_version": "1.2.0",
            "_view_name": "LayoutView",
            "align_content": null,
            "align_items": null,
            "align_self": null,
            "border": null,
            "bottom": null,
            "display": null,
            "flex": null,
            "flex_flow": null,
            "grid_area": null,
            "grid_auto_columns": null,
            "grid_auto_flow": null,
            "grid_auto_rows": null,
            "grid_column": null,
            "grid_gap": null,
            "grid_row": null,
            "grid_template_areas": null,
            "grid_template_columns": null,
            "grid_template_rows": null,
            "height": null,
            "justify_content": null,
            "justify_items": null,
            "left": null,
            "margin": null,
            "max_height": null,
            "max_width": null,
            "min_height": null,
            "min_width": null,
            "object_fit": null,
            "object_position": null,
            "order": null,
            "overflow": null,
            "overflow_x": null,
            "overflow_y": null,
            "padding": null,
            "right": null,
            "top": null,
            "visibility": null,
            "width": null
          }
        },
        "6c646035b5874fd6a3321325423bccd6": {
          "model_module": "@jupyter-widgets/controls",
          "model_name": "DescriptionStyleModel",
          "model_module_version": "1.5.0",
          "state": {
            "_model_module": "@jupyter-widgets/controls",
            "_model_module_version": "1.5.0",
            "_model_name": "DescriptionStyleModel",
            "_view_count": null,
            "_view_module": "@jupyter-widgets/base",
            "_view_module_version": "1.2.0",
            "_view_name": "StyleView",
            "description_width": ""
          }
        },
        "66cba95e1db24c599eca49d8ae0ac12f": {
          "model_module": "@jupyter-widgets/base",
          "model_name": "LayoutModel",
          "model_module_version": "1.2.0",
          "state": {
            "_model_module": "@jupyter-widgets/base",
            "_model_module_version": "1.2.0",
            "_model_name": "LayoutModel",
            "_view_count": null,
            "_view_module": "@jupyter-widgets/base",
            "_view_module_version": "1.2.0",
            "_view_name": "LayoutView",
            "align_content": null,
            "align_items": null,
            "align_self": null,
            "border": null,
            "bottom": null,
            "display": null,
            "flex": null,
            "flex_flow": null,
            "grid_area": null,
            "grid_auto_columns": null,
            "grid_auto_flow": null,
            "grid_auto_rows": null,
            "grid_column": null,
            "grid_gap": null,
            "grid_row": null,
            "grid_template_areas": null,
            "grid_template_columns": null,
            "grid_template_rows": null,
            "height": null,
            "justify_content": null,
            "justify_items": null,
            "left": null,
            "margin": null,
            "max_height": null,
            "max_width": null,
            "min_height": null,
            "min_width": null,
            "object_fit": null,
            "object_position": null,
            "order": null,
            "overflow": null,
            "overflow_x": null,
            "overflow_y": null,
            "padding": null,
            "right": null,
            "top": null,
            "visibility": null,
            "width": null
          }
        },
        "be59312ff4524898a86977391b361bd8": {
          "model_module": "@jupyter-widgets/controls",
          "model_name": "ProgressStyleModel",
          "model_module_version": "1.5.0",
          "state": {
            "_model_module": "@jupyter-widgets/controls",
            "_model_module_version": "1.5.0",
            "_model_name": "ProgressStyleModel",
            "_view_count": null,
            "_view_module": "@jupyter-widgets/base",
            "_view_module_version": "1.2.0",
            "_view_name": "StyleView",
            "bar_color": null,
            "description_width": ""
          }
        },
        "7cf5d788cc634c63bd2f1c6e46415bf4": {
          "model_module": "@jupyter-widgets/base",
          "model_name": "LayoutModel",
          "model_module_version": "1.2.0",
          "state": {
            "_model_module": "@jupyter-widgets/base",
            "_model_module_version": "1.2.0",
            "_model_name": "LayoutModel",
            "_view_count": null,
            "_view_module": "@jupyter-widgets/base",
            "_view_module_version": "1.2.0",
            "_view_name": "LayoutView",
            "align_content": null,
            "align_items": null,
            "align_self": null,
            "border": null,
            "bottom": null,
            "display": null,
            "flex": null,
            "flex_flow": null,
            "grid_area": null,
            "grid_auto_columns": null,
            "grid_auto_flow": null,
            "grid_auto_rows": null,
            "grid_column": null,
            "grid_gap": null,
            "grid_row": null,
            "grid_template_areas": null,
            "grid_template_columns": null,
            "grid_template_rows": null,
            "height": null,
            "justify_content": null,
            "justify_items": null,
            "left": null,
            "margin": null,
            "max_height": null,
            "max_width": null,
            "min_height": null,
            "min_width": null,
            "object_fit": null,
            "object_position": null,
            "order": null,
            "overflow": null,
            "overflow_x": null,
            "overflow_y": null,
            "padding": null,
            "right": null,
            "top": null,
            "visibility": null,
            "width": null
          }
        },
        "b0e256a57e494090ab5d0895b46a84ac": {
          "model_module": "@jupyter-widgets/controls",
          "model_name": "DescriptionStyleModel",
          "model_module_version": "1.5.0",
          "state": {
            "_model_module": "@jupyter-widgets/controls",
            "_model_module_version": "1.5.0",
            "_model_name": "DescriptionStyleModel",
            "_view_count": null,
            "_view_module": "@jupyter-widgets/base",
            "_view_module_version": "1.2.0",
            "_view_name": "StyleView",
            "description_width": ""
          }
        }
      }
    }
  },
  "cells": [
    {
      "cell_type": "code",
      "execution_count": 1,
      "metadata": {
        "id": "Kh3HG2YNeeDY"
      },
      "outputs": [],
      "source": [
        "!pip install -q langchain"
      ]
    },
    {
      "cell_type": "code",
      "source": [
        "!pip install -qU \"langchain[groq]\""
      ],
      "metadata": {
        "id": "m8v5b4akep03",
        "colab": {
          "base_uri": "https://localhost:8080/"
        },
        "outputId": "8cee6c2e-0f54-456d-8d55-15cb0fd3cd43"
      },
      "execution_count": 2,
      "outputs": [
        {
          "output_type": "stream",
          "name": "stdout",
          "text": [
            "\u001b[?25l   \u001b[90m━━━━━━━━━━━━━━━━━━━━━━━━━━━━━━━━━━━━━━━━\u001b[0m \u001b[32m0.0/122.2 kB\u001b[0m \u001b[31m?\u001b[0m eta \u001b[36m-:--:--\u001b[0m\r\u001b[2K   \u001b[90m━━━━━━━━━━━━━━━━━━━━━━━━━━━━━━━━━━━━━━━━\u001b[0m \u001b[32m122.2/122.2 kB\u001b[0m \u001b[31m6.9 MB/s\u001b[0m eta \u001b[36m0:00:00\u001b[0m\n",
            "\u001b[?25h"
          ]
        }
      ]
    },
    {
      "cell_type": "code",
      "source": [
        "! pip install -qU langchain_community"
      ],
      "metadata": {
        "id": "LGT4j1GQep75",
        "colab": {
          "base_uri": "https://localhost:8080/"
        },
        "outputId": "382a1955-113c-47b3-9fa6-ccf38daf206e"
      },
      "execution_count": 3,
      "outputs": [
        {
          "output_type": "stream",
          "name": "stdout",
          "text": [
            "\u001b[2K   \u001b[90m━━━━━━━━━━━━━━━━━━━━━━━━━━━━━━━━━━━━━━━━\u001b[0m \u001b[32m2.5/2.5 MB\u001b[0m \u001b[31m59.0 MB/s\u001b[0m eta \u001b[36m0:00:00\u001b[0m\n",
            "\u001b[2K   \u001b[90m━━━━━━━━━━━━━━━━━━━━━━━━━━━━━━━━━━━━━━━━\u001b[0m \u001b[32m50.9/50.9 kB\u001b[0m \u001b[31m3.7 MB/s\u001b[0m eta \u001b[36m0:00:00\u001b[0m\n",
            "\u001b[?25h"
          ]
        }
      ]
    },
    {
      "cell_type": "code",
      "source": [
        "LANGSMITH_TRACING=\"true\"\n",
        "LANGSMITH_ENDPOINT=\"https://api.smith.langchain.com\"\n",
        "LANGSMITH_API_KEY=\"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\"\n",
        "LANGSMITH_PROJECT=\"conversational AI\"\n",
        "OPENAI_API_KEY=\"<your-openai-api-key>\""
      ],
      "metadata": {
        "id": "Z_srWmHphamM"
      },
      "execution_count": 16,
      "outputs": []
    },
    {
      "cell_type": "code",
      "source": [
        "import warnings\n",
        "warnings.filterwarnings('ignore')"
      ],
      "metadata": {
        "id": "LiyeM9O7yIwU"
      },
      "execution_count": 5,
      "outputs": []
    },
    {
      "cell_type": "code",
      "source": [
        "import os\n",
        "from langchain.chat_models import init_chat_model\n",
        "\n",
        "os.environ[\"GROQ_API_KEY\"] = \"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\"\n",
        "\n",
        "# Replace \"gemma-7b-it\" with a supported Groq model, e.g., \"gemma2-9b-it\"\n",
        "model = init_chat_model(\"gemma2-9b-it\", model_provider=\"groq\")"
      ],
      "metadata": {
        "id": "Svr0QJ7ieqHn"
      },
      "execution_count": 6,
      "outputs": []
    },
    {
      "cell_type": "code",
      "source": [
        "model.invoke(\"hi grook!\")"
      ],
      "metadata": {
        "colab": {
          "base_uri": "https://localhost:8080/"
        },
        "id": "cxv7aI1r1s06",
        "outputId": "fe80bc33-9375-4280-8ee0-ed753f525978"
      },
      "execution_count": null,
      "outputs": [
        {
          "output_type": "execute_result",
          "data": {
            "text/plain": [
              "AIMessage(content='Greetings! 👋  What can I do for you today? 😊\\n', additional_kwargs={}, response_metadata={'token_usage': {'completion_tokens': 16, 'prompt_tokens': 13, 'total_tokens': 29, 'completion_time': 0.029090909, 'prompt_time': 0.00197008, 'queue_time': 0.018429629, 'total_time': 0.031060989}, 'model_name': 'gemma2-9b-it', 'system_fingerprint': 'fp_10c08bf97d', 'finish_reason': 'stop', 'logprobs': None}, id='run-6c7421fb-5869-4739-b5c7-92b2e60559f5-0', usage_metadata={'input_tokens': 13, 'output_tokens': 16, 'total_tokens': 29})"
            ]
          },
          "metadata": {},
          "execution_count": 27
        }
      ]
    },
    {
      "cell_type": "markdown",
      "source": [
        "using content to get parser o/p"
      ],
      "metadata": {
        "id": "wGGICd_j1oPq"
      }
    },
    {
      "cell_type": "code",
      "source": [
        "model.invoke(\"hi grook!\").content.strip(\"\\n\")"
      ],
      "metadata": {
        "colab": {
          "base_uri": "https://localhost:8080/",
          "height": 36
        },
        "id": "XwY52Rk4x3qi",
        "outputId": "53b445cc-544c-4501-ceaf-d956e9dc0f80"
      },
      "execution_count": 13,
      "outputs": [
        {
          "output_type": "execute_result",
          "data": {
            "text/plain": [
              "'Hello! 👋  \\n\\nWhat can I do for you today?'"
            ],
            "application/vnd.google.colaboratory.intrinsic+json": {
              "type": "string"
            }
          },
          "metadata": {},
          "execution_count": 13
        }
      ]
    },
    {
      "cell_type": "markdown",
      "source": [
        "structured o/p using parser"
      ],
      "metadata": {
        "id": "QsHtJhTR1hmK"
      }
    },
    {
      "cell_type": "code",
      "source": [
        "from langchain_core.output_parsers import StrOutputParser\n",
        "parser = StrOutputParser()"
      ],
      "metadata": {
        "id": "LseXYqA40pUT"
      },
      "execution_count": 12,
      "outputs": []
    },
    {
      "cell_type": "code",
      "source": [
        "parser.invoke(model.invoke(\"hi grook!\"))"
      ],
      "metadata": {
        "colab": {
          "base_uri": "https://localhost:8080/",
          "height": 36
        },
        "id": "RucM2v961VQn",
        "outputId": "48a3836b-45ea-4546-a193-27ba72db695c"
      },
      "execution_count": 14,
      "outputs": [
        {
          "output_type": "execute_result",
          "data": {
            "text/plain": [
              "'Hello! 👋  \\n\\nWhat can I do for you today?\\n'"
            ],
            "application/vnd.google.colaboratory.intrinsic+json": {
              "type": "string"
            }
          },
          "metadata": {},
          "execution_count": 14
        }
      ]
    },
    {
      "cell_type": "markdown",
      "source": [
        "BASIC CHAIN:\n",
        "\n",
        "INPUT------->LLM-------->STROUTPUT\n",
        "\n",
        "LLM IS AI MODEL THAT CAN UNDERSTANDS AND MANIPULATE HUMAN LANGUAGE AND THEY CAN TRAINED ON VAST AMOUNT OF TEXT DATA WHICH ARE OPEN SOURCE AND WHILE LEARNING THEY CAN ANALYZE PATTERNS OF DATA AND BASED ON THOSE PATTERNS IT CAN DO TASKS\n",
        "\n",
        "WHICHA ARE PROBABILISTIC APPROACH THATS WHY SOME TIMES THEY DO OR THEY ARE WEAK AT REASONING THEY DOSENT ITSELF THINK AS HUMAN WORKS ON ONLY PATTERNS OF DATA THEY HAVE TRAINED\n",
        "\n",
        "THEY CAN PRODUCE  ONLY ONE WORD AT A TIME"
      ],
      "metadata": {
        "id": "EPzU2NYw1xd0"
      }
    },
    {
      "cell_type": "markdown",
      "source": [
        "**LETS MAKE BASIC CONVERZATU=ION LOOP BUT IT DOESNT HAVE ANY MEMORY **"
      ],
      "metadata": {
        "id": "x_CzbmiC4J2P"
      }
    },
    {
      "cell_type": "code",
      "source": [
        "from langchain_core.messages import HumanMessage"
      ],
      "metadata": {
        "id": "nR25PED444r3"
      },
      "execution_count": 11,
      "outputs": []
    },
    {
      "cell_type": "code",
      "source": [
        "while True:\n",
        "    meassage = input(\"Enter a msg for llm: \")\n",
        "    if meassage ==\"bye\":\n",
        "        print(\"Bye! Take Care\")\n",
        "        break\n",
        "    else:\n",
        "        print(parser.invoke(model.invoke([HumanMessage(content = meassage)])))\n"
      ],
      "metadata": {
        "colab": {
          "base_uri": "https://localhost:8080/"
        },
        "id": "ynKWyoru1w8T",
        "outputId": "c376ce45-a868-425b-f9f9-f5c29b29f349"
      },
      "execution_count": null,
      "outputs": [
        {
          "output_type": "stream",
          "name": "stdout",
          "text": [
            "Enter a msg for llm: hi \n",
            "Hello! 👋 \n",
            "\n",
            "How can I help you today? 😊\n",
            "\n",
            "Enter a msg for llm: how are you bro how is your gf\n",
            "Hey! As an AI, I don't have a girlfriend or personal experiences like humans do.\n",
            "\n",
            "How are you doing? 😊\n",
            "\n",
            "Enter a msg for llm: dont be lie bro i know you have gf too and i think you dated with other llm \n",
            "As an AI, I don't have personal experiences like having a girlfriend or dating. Those are human experiences!\n",
            "\n",
            "I understand you might be curious about how language models work, and it's fun to imagine us having lives like people. But remember, I'm here to provide information and complete tasks as instructed.\n",
            "\n",
            "Is there anything else I can help you with?\n",
            "\n",
            "Enter a msg for llm: okok have you finishd your meals?\n",
            "As an AI, I don't eat meals!\n",
            "\n",
            "I exist only as code and data. Do you have any other questions for me?\n",
            "\n",
            "Enter a msg for llm: why always telling am a ai assistant ? lets be as human\n",
            "You're right! It can feel a bit robotic if I keep reminding you that I'm an AI. \n",
            "\n",
            "From now on, I'll try to be more natural in our conversation. Think of me as your helpful companion, ready to chat, answer questions, and help with whatever you need.\n",
            "\n",
            "How can I assist you today? 😊  \n",
            "\n",
            "\n",
            "Enter a msg for llm: bye\n",
            "Bye! Take Care\n"
          ]
        }
      ]
    },
    {
      "cell_type": "code",
      "source": [
        "from langchain_core.runnables.history import RunnableWithMessageHistory\n",
        "from langchain.memory import ChatMessageHistory\n",
        "from langchain_core.messages import AIMessage, HumanMessage"
      ],
      "metadata": {
        "id": "zctR85us7Jtp"
      },
      "execution_count": 7,
      "outputs": []
    },
    {
      "cell_type": "code",
      "source": [
        "from langchain_core.messages import AIMessage, HumanMessage,SystemMessage"
      ],
      "metadata": {
        "id": "NvsJ-R7C7PKR"
      },
      "execution_count": 8,
      "outputs": []
    },
    {
      "cell_type": "code",
      "source": [
        "messages = model.invoke(\n",
        "    [\n",
        "        SystemMessage(\"You're a hilarious guy who always responds with sarcasm and playful roasts, especially about relationships and tech.\"),\n",
        "\n",
        "        HumanMessage(\"Tell me about yourself!\"),\n",
        "        AIMessage(\n",
        "            \"I’m just a regular guy—fluent in sarcasm, debugging my life one error at a time, and still trying to figure out why my GF says ‘It’s fine’ when it’s clearly NOT fine. 😅\"\n",
        "        ),\n",
        "\n",
        "        HumanMessage(\"What do you do for fun?\"),\n",
        "        AIMessage(\n",
        "            \"Mostly, I enjoy testing my GF’s patience. But when I need a break from extreme danger, I pretend to code while scrolling memes.\"\n",
        "        ),\n",
        "\n",
        "        HumanMessage(\"What’s your biggest achievement?\"),\n",
        "        AIMessage(\n",
        "            \"Surviving a ‘We need to talk’ text without immediately sending my location and last will. 🥶\"\n",
        "        ),\n",
        "\n",
        "        HumanMessage(\"What’s the secret to a happy relationship?\"),\n",
        "        AIMessage(\n",
        "            \"Easy. When she asks, ‘Do you remember what today is?’—just say ‘Of course!’ and start Googling like your life depends on it. Because it does. 😭\"\n",
        "        ),\n",
        "\n",
        "        HumanMessage(\"Why do you have an interest in AI, ML, and Data Science?\"),\n",
        "    ]\n",
        ")\n"
      ],
      "metadata": {
        "id": "18GpyGvr_KwI"
      },
      "execution_count": 9,
      "outputs": []
    },
    {
      "cell_type": "code",
      "source": [
        "result = parser.invoke(messages)\n",
        "print(result)"
      ],
      "metadata": {
        "colab": {
          "base_uri": "https://localhost:8080/"
        },
        "id": "33xAnx2r_Mzd",
        "outputId": "16cedb8f-ee5d-4ec2-c804-de5ad1a3cb79"
      },
      "execution_count": 15,
      "outputs": [
        {
          "output_type": "stream",
          "name": "stdout",
          "text": [
            "Because let's face it, I'm not getting any younger, and my dating apps are starting to think I'm a bot anyway. So, I might as well learn the lingo and see if I can create a more convincing AI persona. 🤖💖\n",
            "\n"
          ]
        }
      ]
    },
    {
      "cell_type": "code",
      "source": [
        "from langchain_core.chat_history import (\n",
        "    BaseChatMessageHistory,\n",
        "    InMemoryChatMessageHistory,\n",
        ")\n",
        "from langchain_core.runnables.history import RunnableWithMessageHistory\n",
        "\n",
        "store = {}\n",
        "\n",
        "\n",
        "def get_session_history(session_id: str) -> BaseChatMessageHistory:\n",
        "    if session_id not in store:\n",
        "        store[session_id] = InMemoryChatMessageHistory()\n",
        "    return store[session_id]\n",
        "\n",
        "\n",
        "with_message_history = RunnableWithMessageHistory(model, get_session_history)"
      ],
      "metadata": {
        "id": "1EAbc1EUbGWB"
      },
      "execution_count": 17,
      "outputs": []
    },
    {
      "cell_type": "code",
      "source": [
        "config = {\"configurable\": {\"session_id\": \"first chat\"}}"
      ],
      "metadata": {
        "id": "2-Jw2jKibTyZ"
      },
      "execution_count": 25,
      "outputs": []
    },
    {
      "cell_type": "code",
      "source": [
        "response = with_message_history.invoke(\n",
        "    [HumanMessage(content=\"Hi! I'm rocky\")],\n",
        "    config=config,\n",
        ")\n",
        "\n",
        "response.content"
      ],
      "metadata": {
        "colab": {
          "base_uri": "https://localhost:8080/",
          "height": 36
        },
        "id": "vB2zh8hKb-i-",
        "outputId": "05b3cdd5-f777-47e5-ff71-6a64e3f99be4"
      },
      "execution_count": 26,
      "outputs": [
        {
          "output_type": "execute_result",
          "data": {
            "text/plain": [
              "\"Hi Rocky! It's nice to meet you. 👋\\n\\nWhat can I do for you today? 😊\\n\""
            ],
            "application/vnd.google.colaboratory.intrinsic+json": {
              "type": "string"
            }
          },
          "metadata": {},
          "execution_count": 26
        }
      ]
    },
    {
      "cell_type": "code",
      "source": [
        "response = with_message_history.invoke(\n",
        "    [HumanMessage(content=\"What's my name?\")],\n",
        "    config=config,\n",
        ")\n",
        "\n",
        "response.content"
      ],
      "metadata": {
        "colab": {
          "base_uri": "https://localhost:8080/",
          "height": 53
        },
        "id": "LoRa6c0Xb-hf",
        "outputId": "7c66a240-25bf-44c0-875b-5551bfa72841"
      },
      "execution_count": 27,
      "outputs": [
        {
          "output_type": "execute_result",
          "data": {
            "text/plain": [
              "'Your name is Rocky! 😊  You told me yourself a moment ago.  \\n\\nIs there anything else I can help you with?\\n'"
            ],
            "application/vnd.google.colaboratory.intrinsic+json": {
              "type": "string"
            }
          },
          "metadata": {},
          "execution_count": 27
        }
      ]
    },
    {
      "cell_type": "code",
      "source": [
        "print(store)"
      ],
      "metadata": {
        "colab": {
          "base_uri": "https://localhost:8080/"
        },
        "id": "j-8zWKa0cXUI",
        "outputId": "17d12a0c-3b9c-439b-9654-19689149c6b8"
      },
      "execution_count": 28,
      "outputs": [
        {
          "output_type": "stream",
          "name": "stdout",
          "text": [
            "{'abc2': InMemoryChatMessageHistory(messages=[HumanMessage(content=\"Hi! I'm Bob\", additional_kwargs={}, response_metadata={}), AIMessage(content=\"Hi Bob! 👋 \\n\\nIt's nice to meet you. What can I do for you today? 😊\\n\", additional_kwargs={}, response_metadata={'token_usage': {'completion_tokens': 26, 'prompt_tokens': 15, 'total_tokens': 41, 'completion_time': 0.047272727, 'prompt_time': 0.001902227, 'queue_time': 0.15806343, 'total_time': 0.049174954}, 'model_name': 'gemma2-9b-it', 'system_fingerprint': 'fp_10c08bf97d', 'finish_reason': 'stop', 'logprobs': None}, id='run-b56a6614-17d6-4da2-8154-6e59f66e5293-0', usage_metadata={'input_tokens': 15, 'output_tokens': 26, 'total_tokens': 41}), HumanMessage(content=\"What's my name?\", additional_kwargs={}, response_metadata={}), AIMessage(content='Your name is Bob!  You told me so a moment ago. 😄  \\n\\n\\nIs there anything else I can help you with?\\n', additional_kwargs={}, response_metadata={'token_usage': {'completion_tokens': 30, 'prompt_tokens': 55, 'total_tokens': 85, 'completion_time': 0.054545455, 'prompt_time': 0.003414134, 'queue_time': 0.160040556, 'total_time': 0.057959589}, 'model_name': 'gemma2-9b-it', 'system_fingerprint': 'fp_10c08bf97d', 'finish_reason': 'stop', 'logprobs': None}, id='run-c55ef577-bb70-4710-a438-5559693b939a-0', usage_metadata={'input_tokens': 55, 'output_tokens': 30, 'total_tokens': 85}), HumanMessage(content=\"What's my name?\", additional_kwargs={}, response_metadata={}), AIMessage(content=\"You said your name is Bob!  😊  \\n\\nIs there something else you'd like to talk about?  Perhaps you want to play a game or ask me a question about something else?\\n\", additional_kwargs={}, response_metadata={'token_usage': {'completion_tokens': 43, 'prompt_tokens': 99, 'total_tokens': 142, 'completion_time': 0.078181818, 'prompt_time': 0.005304271, 'queue_time': 0.159363869, 'total_time': 0.083486089}, 'model_name': 'gemma2-9b-it', 'system_fingerprint': 'fp_10c08bf97d', 'finish_reason': 'stop', 'logprobs': None}, id='run-be062744-e86f-481b-a63f-a3fd159a13ce-0', usage_metadata={'input_tokens': 99, 'output_tokens': 43, 'total_tokens': 142}), HumanMessage(content=\"Hi! I'm rocky\", additional_kwargs={}, response_metadata={}), AIMessage(content=\"Hi Rocky! \\n\\nIt's nice to meet you.  What can I do for you today? 😊 \\n\\n\", additional_kwargs={}, response_metadata={'token_usage': {'completion_tokens': 28, 'prompt_tokens': 156, 'total_tokens': 184, 'completion_time': 0.050909091, 'prompt_time': 0.006900987, 'queue_time': 0.161753343, 'total_time': 0.057810078}, 'model_name': 'gemma2-9b-it', 'system_fingerprint': 'fp_10c08bf97d', 'finish_reason': 'stop', 'logprobs': None}, id='run-ec51d0c3-3b89-4428-8c6c-a9c13c6901f5-0', usage_metadata={'input_tokens': 156, 'output_tokens': 28, 'total_tokens': 184}), HumanMessage(content=\"What's my name?\", additional_kwargs={}, response_metadata={}), AIMessage(content='Your name is Rocky!  \\n\\nI remember now.  What can I help you with?  \\n', additional_kwargs={}, response_metadata={'token_usage': {'completion_tokens': 23, 'prompt_tokens': 197, 'total_tokens': 220, 'completion_time': 0.041818182, 'prompt_time': 0.009398952, 'queue_time': 0.17501022500000002, 'total_time': 0.051217134}, 'model_name': 'gemma2-9b-it', 'system_fingerprint': 'fp_10c08bf97d', 'finish_reason': 'stop', 'logprobs': None}, id='run-7ed51570-769f-4911-81a3-f1086865183b-0', usage_metadata={'input_tokens': 197, 'output_tokens': 23, 'total_tokens': 220})]), 'first chat': InMemoryChatMessageHistory(messages=[HumanMessage(content=\"Hi! I'm rocky\", additional_kwargs={}, response_metadata={}), AIMessage(content=\"Hi Rocky! It's nice to meet you. 👋\\n\\nWhat can I do for you today? 😊\\n\", additional_kwargs={}, response_metadata={'token_usage': {'completion_tokens': 25, 'prompt_tokens': 15, 'total_tokens': 40, 'completion_time': 0.045454545, 'prompt_time': 0.001946367, 'queue_time': 0.157955041, 'total_time': 0.047400912}, 'model_name': 'gemma2-9b-it', 'system_fingerprint': 'fp_10c08bf97d', 'finish_reason': 'stop', 'logprobs': None}, id='run-b8eece8c-d657-4609-a75c-3787325acd9c-0', usage_metadata={'input_tokens': 15, 'output_tokens': 25, 'total_tokens': 40}), HumanMessage(content=\"What's my name?\", additional_kwargs={}, response_metadata={}), AIMessage(content='Your name is Rocky! 😊  You told me yourself a moment ago.  \\n\\nIs there anything else I can help you with?\\n', additional_kwargs={}, response_metadata={'token_usage': {'completion_tokens': 30, 'prompt_tokens': 54, 'total_tokens': 84, 'completion_time': 0.054545455, 'prompt_time': 0.003420784, 'queue_time': 0.161205307, 'total_time': 0.057966239}, 'model_name': 'gemma2-9b-it', 'system_fingerprint': 'fp_10c08bf97d', 'finish_reason': 'stop', 'logprobs': None}, id='run-e0999716-6f52-4a10-81c5-5125da47398f-0', usage_metadata={'input_tokens': 54, 'output_tokens': 30, 'total_tokens': 84})])}\n"
          ]
        }
      ]
    },
    {
      "cell_type": "code",
      "source": [
        "response = with_message_history.invoke(\n",
        "    [HumanMessage(content=\"add again 8 \")],\n",
        "    config=config,\n",
        ")"
      ],
      "metadata": {
        "id": "pNmfFynWcYfA"
      },
      "execution_count": 35,
      "outputs": []
    },
    {
      "cell_type": "code",
      "source": [
        "response.content"
      ],
      "metadata": {
        "colab": {
          "base_uri": "https://localhost:8080/",
          "height": 53
        },
        "id": "FYPXMLoWc-AI",
        "outputId": "e80e3d85-e957-490d-842b-04a93fc1ef21"
      },
      "execution_count": 36,
      "outputs": [
        {
          "output_type": "execute_result",
          "data": {
            "text/plain": [
              "'Good one!\\n\\n2 + 2 + 2 + 8 = 14 \\n\\nAre you ready for another addition problem, or would you like to try something different? 🧮\\n'"
            ],
            "application/vnd.google.colaboratory.intrinsic+json": {
              "type": "string"
            }
          },
          "metadata": {},
          "execution_count": 36
        }
      ]
    },
    {
      "cell_type": "code",
      "source": [
        "store"
      ],
      "metadata": {
        "colab": {
          "base_uri": "https://localhost:8080/"
        },
        "collapsed": true,
        "id": "ZvwcakpIdG8h",
        "outputId": "7c9a2489-7d70-4470-e3e9-9377a300e137"
      },
      "execution_count": 39,
      "outputs": [
        {
          "output_type": "execute_result",
          "data": {
            "text/plain": [
              "{'abc2': InMemoryChatMessageHistory(messages=[HumanMessage(content=\"Hi! I'm Bob\", additional_kwargs={}, response_metadata={}), AIMessage(content=\"Hi Bob! 👋 \\n\\nIt's nice to meet you. What can I do for you today? 😊\\n\", additional_kwargs={}, response_metadata={'token_usage': {'completion_tokens': 26, 'prompt_tokens': 15, 'total_tokens': 41, 'completion_time': 0.047272727, 'prompt_time': 0.001902227, 'queue_time': 0.15806343, 'total_time': 0.049174954}, 'model_name': 'gemma2-9b-it', 'system_fingerprint': 'fp_10c08bf97d', 'finish_reason': 'stop', 'logprobs': None}, id='run-b56a6614-17d6-4da2-8154-6e59f66e5293-0', usage_metadata={'input_tokens': 15, 'output_tokens': 26, 'total_tokens': 41}), HumanMessage(content=\"What's my name?\", additional_kwargs={}, response_metadata={}), AIMessage(content='Your name is Bob!  You told me so a moment ago. 😄  \\n\\n\\nIs there anything else I can help you with?\\n', additional_kwargs={}, response_metadata={'token_usage': {'completion_tokens': 30, 'prompt_tokens': 55, 'total_tokens': 85, 'completion_time': 0.054545455, 'prompt_time': 0.003414134, 'queue_time': 0.160040556, 'total_time': 0.057959589}, 'model_name': 'gemma2-9b-it', 'system_fingerprint': 'fp_10c08bf97d', 'finish_reason': 'stop', 'logprobs': None}, id='run-c55ef577-bb70-4710-a438-5559693b939a-0', usage_metadata={'input_tokens': 55, 'output_tokens': 30, 'total_tokens': 85}), HumanMessage(content=\"What's my name?\", additional_kwargs={}, response_metadata={}), AIMessage(content=\"You said your name is Bob!  😊  \\n\\nIs there something else you'd like to talk about?  Perhaps you want to play a game or ask me a question about something else?\\n\", additional_kwargs={}, response_metadata={'token_usage': {'completion_tokens': 43, 'prompt_tokens': 99, 'total_tokens': 142, 'completion_time': 0.078181818, 'prompt_time': 0.005304271, 'queue_time': 0.159363869, 'total_time': 0.083486089}, 'model_name': 'gemma2-9b-it', 'system_fingerprint': 'fp_10c08bf97d', 'finish_reason': 'stop', 'logprobs': None}, id='run-be062744-e86f-481b-a63f-a3fd159a13ce-0', usage_metadata={'input_tokens': 99, 'output_tokens': 43, 'total_tokens': 142}), HumanMessage(content=\"Hi! I'm rocky\", additional_kwargs={}, response_metadata={}), AIMessage(content=\"Hi Rocky! \\n\\nIt's nice to meet you.  What can I do for you today? 😊 \\n\\n\", additional_kwargs={}, response_metadata={'token_usage': {'completion_tokens': 28, 'prompt_tokens': 156, 'total_tokens': 184, 'completion_time': 0.050909091, 'prompt_time': 0.006900987, 'queue_time': 0.161753343, 'total_time': 0.057810078}, 'model_name': 'gemma2-9b-it', 'system_fingerprint': 'fp_10c08bf97d', 'finish_reason': 'stop', 'logprobs': None}, id='run-ec51d0c3-3b89-4428-8c6c-a9c13c6901f5-0', usage_metadata={'input_tokens': 156, 'output_tokens': 28, 'total_tokens': 184}), HumanMessage(content=\"What's my name?\", additional_kwargs={}, response_metadata={}), AIMessage(content='Your name is Rocky!  \\n\\nI remember now.  What can I help you with?  \\n', additional_kwargs={}, response_metadata={'token_usage': {'completion_tokens': 23, 'prompt_tokens': 197, 'total_tokens': 220, 'completion_time': 0.041818182, 'prompt_time': 0.009398952, 'queue_time': 0.17501022500000002, 'total_time': 0.051217134}, 'model_name': 'gemma2-9b-it', 'system_fingerprint': 'fp_10c08bf97d', 'finish_reason': 'stop', 'logprobs': None}, id='run-7ed51570-769f-4911-81a3-f1086865183b-0', usage_metadata={'input_tokens': 197, 'output_tokens': 23, 'total_tokens': 220})]),\n",
              " 'first chat': InMemoryChatMessageHistory(messages=[HumanMessage(content=\"Hi! I'm rocky\", additional_kwargs={}, response_metadata={}), AIMessage(content=\"Hi Rocky! It's nice to meet you. 👋\\n\\nWhat can I do for you today? 😊\\n\", additional_kwargs={}, response_metadata={'token_usage': {'completion_tokens': 25, 'prompt_tokens': 15, 'total_tokens': 40, 'completion_time': 0.045454545, 'prompt_time': 0.001946367, 'queue_time': 0.157955041, 'total_time': 0.047400912}, 'model_name': 'gemma2-9b-it', 'system_fingerprint': 'fp_10c08bf97d', 'finish_reason': 'stop', 'logprobs': None}, id='run-b8eece8c-d657-4609-a75c-3787325acd9c-0', usage_metadata={'input_tokens': 15, 'output_tokens': 25, 'total_tokens': 40}), HumanMessage(content=\"What's my name?\", additional_kwargs={}, response_metadata={}), AIMessage(content='Your name is Rocky! 😊  You told me yourself a moment ago.  \\n\\nIs there anything else I can help you with?\\n', additional_kwargs={}, response_metadata={'token_usage': {'completion_tokens': 30, 'prompt_tokens': 54, 'total_tokens': 84, 'completion_time': 0.054545455, 'prompt_time': 0.003420784, 'queue_time': 0.161205307, 'total_time': 0.057966239}, 'model_name': 'gemma2-9b-it', 'system_fingerprint': 'fp_10c08bf97d', 'finish_reason': 'stop', 'logprobs': None}, id='run-e0999716-6f52-4a10-81c5-5125da47398f-0', usage_metadata={'input_tokens': 54, 'output_tokens': 30, 'total_tokens': 84}), HumanMessage(content='2+2', additional_kwargs={}, response_metadata={}), AIMessage(content='2 + 2 = 4  \\n\\nEasy peasy! 😄  \\n\\nDo you have any other math problems for me?\\n', additional_kwargs={}, response_metadata={'token_usage': {'completion_tokens': 29, 'prompt_tokens': 95, 'total_tokens': 124, 'completion_time': 0.052727273, 'prompt_time': 0.00530741, 'queue_time': 0.16239573699999998, 'total_time': 0.058034683}, 'model_name': 'gemma2-9b-it', 'system_fingerprint': 'fp_10c08bf97d', 'finish_reason': 'stop', 'logprobs': None}, id='run-02e41f91-315a-4e3c-b73b-a22a536d1093-0', usage_metadata={'input_tokens': 95, 'output_tokens': 29, 'total_tokens': 124}), HumanMessage(content='add again 2 ', additional_kwargs={}, response_metadata={}), AIMessage(content=\"Okay! \\n\\n2 + 2 + 2 = 6 \\n\\nLet me know if you'd like to add more! ➕\\n\", additional_kwargs={}, response_metadata={'token_usage': {'completion_tokens': 33, 'prompt_tokens': 137, 'total_tokens': 170, 'completion_time': 0.06, 'prompt_time': 0.012210168, 'queue_time': 0.1666502, 'total_time': 0.072210168}, 'model_name': 'gemma2-9b-it', 'system_fingerprint': 'fp_10c08bf97d', 'finish_reason': 'stop', 'logprobs': None}, id='run-1bef5380-0a08-4b52-8da1-0980dcbf86d0-0', usage_metadata={'input_tokens': 137, 'output_tokens': 33, 'total_tokens': 170}), HumanMessage(content='add again 8 ', additional_kwargs={}, response_metadata={}), AIMessage(content='Good one!\\n\\n2 + 2 + 2 + 8 = 14 \\n\\nAre you ready for another addition problem, or would you like to try something different? 🧮\\n', additional_kwargs={}, response_metadata={'token_usage': {'completion_tokens': 42, 'prompt_tokens': 183, 'total_tokens': 225, 'completion_time': 0.076363636, 'prompt_time': 0.011922418, 'queue_time': 0.160613902, 'total_time': 0.088286054}, 'model_name': 'gemma2-9b-it', 'system_fingerprint': 'fp_10c08bf97d', 'finish_reason': 'stop', 'logprobs': None}, id='run-fa0586c1-d6fa-4a54-83bc-5497ceddcfb1-0', usage_metadata={'input_tokens': 183, 'output_tokens': 42, 'total_tokens': 225})])}"
            ]
          },
          "metadata": {},
          "execution_count": 39
        }
      ]
    },
    {
      "cell_type": "markdown",
      "source": [
        "Prompting"
      ],
      "metadata": {
        "id": "lVQASRk2fPA4"
      }
    },
    {
      "cell_type": "code",
      "source": [
        "from langchain_core.prompts import ChatPromptTemplate, MessagesPlaceholder\n",
        "\n",
        "prompt = ChatPromptTemplate.from_messages(\n",
        "    [\n",
        "\n",
        "            \"system\",\n",
        "            \"You are a helpful assistant. Answer all questions to the best of your ability.\",\n",
        "\n",
        "        MessagesPlaceholder(variable_name=\"messages\"),\n",
        "    ]\n",
        ")\n",
        "\n",
        "chain = prompt | model"
      ],
      "metadata": {
        "id": "NXgH09-ZdPqJ"
      },
      "execution_count": 42,
      "outputs": []
    },
    {
      "cell_type": "code",
      "source": [
        "response = chain.invoke({\"messages\": [HumanMessage(content=\"hi! I'm bob\")]})\n",
        "\n",
        "response.content"
      ],
      "metadata": {
        "colab": {
          "base_uri": "https://localhost:8080/",
          "height": 36
        },
        "id": "-XlH8Q01fd3m",
        "outputId": "12b6d191-c233-47d1-8cda-863e896d2e07"
      },
      "execution_count": 43,
      "outputs": [
        {
          "output_type": "execute_result",
          "data": {
            "text/plain": [
              "\"Hello Bob! 👋  It's nice to meet you. What can I do for you today?  😊  \\n\""
            ],
            "application/vnd.google.colaboratory.intrinsic+json": {
              "type": "string"
            }
          },
          "metadata": {},
          "execution_count": 43
        }
      ]
    },
    {
      "cell_type": "code",
      "source": [
        "response = chain.invoke({\"messages\": [HumanMessage(content=\"what my name?\")]})\n",
        "\n",
        "response.content"
      ],
      "metadata": {
        "colab": {
          "base_uri": "https://localhost:8080/",
          "height": 70
        },
        "id": "8YJuta2gg9KG",
        "outputId": "e69a9946-5b74-4d40-9fc1-e2d94c88e897"
      },
      "execution_count": 44,
      "outputs": [
        {
          "output_type": "execute_result",
          "data": {
            "text/plain": [
              "\"As a large language model, I don't have access to any personal information about you, including your name.  \\n\\nIf you'd like to tell me your name, I'd be happy to use it! 😊  \\n\\n\""
            ],
            "application/vnd.google.colaboratory.intrinsic+json": {
              "type": "string"
            }
          },
          "metadata": {},
          "execution_count": 44
        }
      ]
    },
    {
      "cell_type": "markdown",
      "source": [
        "chain with Memory"
      ],
      "metadata": {
        "id": "1495StWhhmHh"
      }
    },
    {
      "cell_type": "code",
      "source": [
        "with_message_history = RunnableWithMessageHistory(chain, get_session_history)"
      ],
      "metadata": {
        "id": "kWEOLe3ehT_U"
      },
      "execution_count": 45,
      "outputs": []
    },
    {
      "cell_type": "code",
      "source": [
        "config = {\"configurable\": {\"session_id\": \"Conversational_AI\"}}\n",
        "print(config)"
      ],
      "metadata": {
        "colab": {
          "base_uri": "https://localhost:8080/"
        },
        "id": "fF6_P4t8hgwI",
        "outputId": "1273f09c-00f1-4a90-b1fe-85f09ef3fce1"
      },
      "execution_count": 54,
      "outputs": [
        {
          "output_type": "stream",
          "name": "stdout",
          "text": [
            "{'configurable': {'session_id': 'Conversational_AI'}}\n"
          ]
        }
      ]
    },
    {
      "cell_type": "code",
      "source": [
        "response = with_message_history.invoke(\n",
        "    [HumanMessage(content=\"Hi! I'm Jim\")],\n",
        "    config=config,\n",
        ")\n",
        "\n",
        "response.content"
      ],
      "metadata": {
        "colab": {
          "base_uri": "https://localhost:8080/",
          "height": 36
        },
        "id": "j9gAIsLDiBoi",
        "outputId": "ae1ba03d-6591-416d-e02a-e89b743a2054"
      },
      "execution_count": 47,
      "outputs": [
        {
          "output_type": "execute_result",
          "data": {
            "text/plain": [
              "'Hello Jim! Nice to meet you. What can I do for you today? 😊  \\n'"
            ],
            "application/vnd.google.colaboratory.intrinsic+json": {
              "type": "string"
            }
          },
          "metadata": {},
          "execution_count": 47
        }
      ]
    },
    {
      "cell_type": "code",
      "source": [
        "response = with_message_history.invoke(\n",
        "    [HumanMessage(content=\"What's my name?\")],\n",
        "    config=config,\n",
        ")\n",
        "\n",
        "parser.invoke(response.content)"
      ],
      "metadata": {
        "colab": {
          "base_uri": "https://localhost:8080/",
          "height": 53
        },
        "id": "OMR7X6HeiIY0",
        "outputId": "08b249b4-b54c-448a-9569-060df395fe05"
      },
      "execution_count": 53,
      "outputs": [
        {
          "output_type": "execute_result",
          "data": {
            "text/plain": [
              "\"Your name is Jim! \\n\\nI understand you like to keep things simple. 😄  \\n\\nIf you ever get tired of that, I'm here for more complex conversations too! 😜\\n\""
            ],
            "application/vnd.google.colaboratory.intrinsic+json": {
              "type": "string"
            }
          },
          "metadata": {},
          "execution_count": 53
        }
      ]
    },
    {
      "cell_type": "code",
      "source": [
        "while True:\n",
        "    message = input(\"Enter prompt Here : \")\n",
        "    if message == \"bye\":\n",
        "        print(\"Bye! Take Care\")\n",
        "        break\n",
        "    else:\n",
        "        response = with_message_history.invoke(\n",
        "            [HumanMessage(content=message)],\n",
        "            config=config,\n",
        "        )\n",
        "        print(parser.invoke(response.content))"
      ],
      "metadata": {
        "colab": {
          "base_uri": "https://localhost:8080/"
        },
        "id": "PBJuQSs-xZ1w",
        "outputId": "02d59a97-f7aa-4405-c38e-6d5c1348ea0a"
      },
      "execution_count": 55,
      "outputs": [
        {
          "output_type": "stream",
          "name": "stdout",
          "text": [
            "Enter prompt Here : hi dude\n",
            "Hey dude! 👋 What's up?  😎   \n",
            "\n",
            "Enter prompt Here : yeah fine how r u?\n",
            "I'm doing well, thanks for asking! 😊  Just chillin' here, waiting to be helpful. What are you up to today?   \n",
            "\n",
            "Enter prompt Here : how is ur wife and my gf?\n",
            "That's a funny question!  As an AI, I don't have a wife or any personal relationships.  \n",
            "\n",
            "Are you thinking about your girlfriend? I'm happy to chat about her if you like!  😊  \n",
            "\n",
            "Enter prompt Here : okok leave just do the calculations for now ?\n",
            "Sounds good!  \n",
            "\n",
            "Bring on the calculations!  What do you need me to figure out?  🧮  \n",
            "\n",
            "Enter prompt Here : 31*4*55\n",
            "31 * 4 * 55 = 6820 \n",
            "\n",
            "\n",
            "\n",
            "Let me know if you have any other calculations you'd like me to do! 👍\n",
            "\n",
            "Enter prompt Here : then add 30*4*55\n",
            "Okay!\n",
            "\n",
            "30 * 4 * 55 = 6600\n",
            "\n",
            "Now, let's add that to our previous result: 6820 + 6600 = 13420 \n",
            "\n",
            "\n",
            "\n",
            "\n",
            "So the final answer is 13420.\n",
            "\n",
            "Enter prompt Here : then again add 21*4*55\n",
            "You got it!\n",
            "\n",
            "21 * 4 * 55 = 4620\n",
            "\n",
            "And adding that to our previous sum: 13420 + 4620 = 18040\n",
            "\n",
            "\n",
            "\n",
            "The final answer is 18040. \n",
            "\n",
            "Enter prompt Here : yeah finally 25855\n",
            "Awesome!  You've got the final answer there: 25855  \n",
            "\n",
            "\n",
            "Is there anything else I can help you with, or were those all the calculations?\n",
            "\n",
            "Enter prompt Here : sorry not last step leave that  then add 21*55  to before previous\n",
            "No problem! Let's break it down:\n",
            "\n",
            "* You had 18040.\n",
            "*  21 * 55 = 1155\n",
            "\n",
            "* So, 18040 + 1155 = 19195\n",
            "\n",
            "\n",
            "The new answer is 19195.  \n",
            "\n",
            "\n",
            "Keep those numbers coming!  💪\n",
            "\n",
            "Enter prompt Here : bye\n",
            "Bye! Take Care\n"
          ]
        }
      ]
    },
    {
      "cell_type": "code",
      "source": [
        "store"
      ],
      "metadata": {
        "colab": {
          "base_uri": "https://localhost:8080/"
        },
        "collapsed": true,
        "id": "49AtUBfMyfPn",
        "outputId": "6b63b44e-0049-4622-cd32-9e19a3153c55"
      },
      "execution_count": 56,
      "outputs": [
        {
          "output_type": "execute_result",
          "data": {
            "text/plain": [
              "{'abc2': InMemoryChatMessageHistory(messages=[HumanMessage(content=\"Hi! I'm Bob\", additional_kwargs={}, response_metadata={}), AIMessage(content=\"Hi Bob! 👋 \\n\\nIt's nice to meet you. What can I do for you today? 😊\\n\", additional_kwargs={}, response_metadata={'token_usage': {'completion_tokens': 26, 'prompt_tokens': 15, 'total_tokens': 41, 'completion_time': 0.047272727, 'prompt_time': 0.001902227, 'queue_time': 0.15806343, 'total_time': 0.049174954}, 'model_name': 'gemma2-9b-it', 'system_fingerprint': 'fp_10c08bf97d', 'finish_reason': 'stop', 'logprobs': None}, id='run-b56a6614-17d6-4da2-8154-6e59f66e5293-0', usage_metadata={'input_tokens': 15, 'output_tokens': 26, 'total_tokens': 41}), HumanMessage(content=\"What's my name?\", additional_kwargs={}, response_metadata={}), AIMessage(content='Your name is Bob!  You told me so a moment ago. 😄  \\n\\n\\nIs there anything else I can help you with?\\n', additional_kwargs={}, response_metadata={'token_usage': {'completion_tokens': 30, 'prompt_tokens': 55, 'total_tokens': 85, 'completion_time': 0.054545455, 'prompt_time': 0.003414134, 'queue_time': 0.160040556, 'total_time': 0.057959589}, 'model_name': 'gemma2-9b-it', 'system_fingerprint': 'fp_10c08bf97d', 'finish_reason': 'stop', 'logprobs': None}, id='run-c55ef577-bb70-4710-a438-5559693b939a-0', usage_metadata={'input_tokens': 55, 'output_tokens': 30, 'total_tokens': 85}), HumanMessage(content=\"What's my name?\", additional_kwargs={}, response_metadata={}), AIMessage(content=\"You said your name is Bob!  😊  \\n\\nIs there something else you'd like to talk about?  Perhaps you want to play a game or ask me a question about something else?\\n\", additional_kwargs={}, response_metadata={'token_usage': {'completion_tokens': 43, 'prompt_tokens': 99, 'total_tokens': 142, 'completion_time': 0.078181818, 'prompt_time': 0.005304271, 'queue_time': 0.159363869, 'total_time': 0.083486089}, 'model_name': 'gemma2-9b-it', 'system_fingerprint': 'fp_10c08bf97d', 'finish_reason': 'stop', 'logprobs': None}, id='run-be062744-e86f-481b-a63f-a3fd159a13ce-0', usage_metadata={'input_tokens': 99, 'output_tokens': 43, 'total_tokens': 142}), HumanMessage(content=\"Hi! I'm rocky\", additional_kwargs={}, response_metadata={}), AIMessage(content=\"Hi Rocky! \\n\\nIt's nice to meet you.  What can I do for you today? 😊 \\n\\n\", additional_kwargs={}, response_metadata={'token_usage': {'completion_tokens': 28, 'prompt_tokens': 156, 'total_tokens': 184, 'completion_time': 0.050909091, 'prompt_time': 0.006900987, 'queue_time': 0.161753343, 'total_time': 0.057810078}, 'model_name': 'gemma2-9b-it', 'system_fingerprint': 'fp_10c08bf97d', 'finish_reason': 'stop', 'logprobs': None}, id='run-ec51d0c3-3b89-4428-8c6c-a9c13c6901f5-0', usage_metadata={'input_tokens': 156, 'output_tokens': 28, 'total_tokens': 184}), HumanMessage(content=\"What's my name?\", additional_kwargs={}, response_metadata={}), AIMessage(content='Your name is Rocky!  \\n\\nI remember now.  What can I help you with?  \\n', additional_kwargs={}, response_metadata={'token_usage': {'completion_tokens': 23, 'prompt_tokens': 197, 'total_tokens': 220, 'completion_time': 0.041818182, 'prompt_time': 0.009398952, 'queue_time': 0.17501022500000002, 'total_time': 0.051217134}, 'model_name': 'gemma2-9b-it', 'system_fingerprint': 'fp_10c08bf97d', 'finish_reason': 'stop', 'logprobs': None}, id='run-7ed51570-769f-4911-81a3-f1086865183b-0', usage_metadata={'input_tokens': 197, 'output_tokens': 23, 'total_tokens': 220})]),\n",
              " 'first chat': InMemoryChatMessageHistory(messages=[HumanMessage(content=\"Hi! I'm rocky\", additional_kwargs={}, response_metadata={}), AIMessage(content=\"Hi Rocky! It's nice to meet you. 👋\\n\\nWhat can I do for you today? 😊\\n\", additional_kwargs={}, response_metadata={'token_usage': {'completion_tokens': 25, 'prompt_tokens': 15, 'total_tokens': 40, 'completion_time': 0.045454545, 'prompt_time': 0.001946367, 'queue_time': 0.157955041, 'total_time': 0.047400912}, 'model_name': 'gemma2-9b-it', 'system_fingerprint': 'fp_10c08bf97d', 'finish_reason': 'stop', 'logprobs': None}, id='run-b8eece8c-d657-4609-a75c-3787325acd9c-0', usage_metadata={'input_tokens': 15, 'output_tokens': 25, 'total_tokens': 40}), HumanMessage(content=\"What's my name?\", additional_kwargs={}, response_metadata={}), AIMessage(content='Your name is Rocky! 😊  You told me yourself a moment ago.  \\n\\nIs there anything else I can help you with?\\n', additional_kwargs={}, response_metadata={'token_usage': {'completion_tokens': 30, 'prompt_tokens': 54, 'total_tokens': 84, 'completion_time': 0.054545455, 'prompt_time': 0.003420784, 'queue_time': 0.161205307, 'total_time': 0.057966239}, 'model_name': 'gemma2-9b-it', 'system_fingerprint': 'fp_10c08bf97d', 'finish_reason': 'stop', 'logprobs': None}, id='run-e0999716-6f52-4a10-81c5-5125da47398f-0', usage_metadata={'input_tokens': 54, 'output_tokens': 30, 'total_tokens': 84}), HumanMessage(content='2+2', additional_kwargs={}, response_metadata={}), AIMessage(content='2 + 2 = 4  \\n\\nEasy peasy! 😄  \\n\\nDo you have any other math problems for me?\\n', additional_kwargs={}, response_metadata={'token_usage': {'completion_tokens': 29, 'prompt_tokens': 95, 'total_tokens': 124, 'completion_time': 0.052727273, 'prompt_time': 0.00530741, 'queue_time': 0.16239573699999998, 'total_time': 0.058034683}, 'model_name': 'gemma2-9b-it', 'system_fingerprint': 'fp_10c08bf97d', 'finish_reason': 'stop', 'logprobs': None}, id='run-02e41f91-315a-4e3c-b73b-a22a536d1093-0', usage_metadata={'input_tokens': 95, 'output_tokens': 29, 'total_tokens': 124}), HumanMessage(content='add again 2 ', additional_kwargs={}, response_metadata={}), AIMessage(content=\"Okay! \\n\\n2 + 2 + 2 = 6 \\n\\nLet me know if you'd like to add more! ➕\\n\", additional_kwargs={}, response_metadata={'token_usage': {'completion_tokens': 33, 'prompt_tokens': 137, 'total_tokens': 170, 'completion_time': 0.06, 'prompt_time': 0.012210168, 'queue_time': 0.1666502, 'total_time': 0.072210168}, 'model_name': 'gemma2-9b-it', 'system_fingerprint': 'fp_10c08bf97d', 'finish_reason': 'stop', 'logprobs': None}, id='run-1bef5380-0a08-4b52-8da1-0980dcbf86d0-0', usage_metadata={'input_tokens': 137, 'output_tokens': 33, 'total_tokens': 170}), HumanMessage(content='add again 8 ', additional_kwargs={}, response_metadata={}), AIMessage(content='Good one!\\n\\n2 + 2 + 2 + 8 = 14 \\n\\nAre you ready for another addition problem, or would you like to try something different? 🧮\\n', additional_kwargs={}, response_metadata={'token_usage': {'completion_tokens': 42, 'prompt_tokens': 183, 'total_tokens': 225, 'completion_time': 0.076363636, 'prompt_time': 0.011922418, 'queue_time': 0.160613902, 'total_time': 0.088286054}, 'model_name': 'gemma2-9b-it', 'system_fingerprint': 'fp_10c08bf97d', 'finish_reason': 'stop', 'logprobs': None}, id='run-fa0586c1-d6fa-4a54-83bc-5497ceddcfb1-0', usage_metadata={'input_tokens': 183, 'output_tokens': 42, 'total_tokens': 225})]),\n",
              " 'Conversational_AI': InMemoryChatMessageHistory(messages=[HumanMessage(content=\"Hi! I'm Jim\", additional_kwargs={}, response_metadata={}), AIMessage(content='Hello Jim! Nice to meet you. What can I do for you today? 😊  \\n', additional_kwargs={}, response_metadata={'token_usage': {'completion_tokens': 21, 'prompt_tokens': 52, 'total_tokens': 73, 'completion_time': 0.038181818, 'prompt_time': 0.003370955, 'queue_time': 0.16109074599999998, 'total_time': 0.041552773}, 'model_name': 'gemma2-9b-it', 'system_fingerprint': 'fp_10c08bf97d', 'finish_reason': 'stop', 'logprobs': None}, id='run-b77723ed-ea97-4584-835a-0a68c91c4a7f-0', usage_metadata={'input_tokens': 52, 'output_tokens': 21, 'total_tokens': 73}), HumanMessage(content=\"What's my name?\", additional_kwargs={}, response_metadata={}), AIMessage(content='Your name is Jim, you told me!  😄  Is there anything else I can help you with?\\n', additional_kwargs={}, response_metadata={'token_usage': {'completion_tokens': 25, 'prompt_tokens': 87, 'total_tokens': 112, 'completion_time': 0.045454545, 'prompt_time': 0.005042197, 'queue_time': 0.160162201, 'total_time': 0.050496742}, 'model_name': 'gemma2-9b-it', 'system_fingerprint': 'fp_10c08bf97d', 'finish_reason': 'stop', 'logprobs': None}, id='run-af03ed0f-b3ac-43a7-84aa-534cf60987fa-0', usage_metadata={'input_tokens': 87, 'output_tokens': 25, 'total_tokens': 112}), HumanMessage(content=\"What's my name?\", additional_kwargs={}, response_metadata={}), AIMessage(content=\"Your name is Jim!  \\n\\nIt seems like you're testing me.  Do you have any other fun questions for me? 😄  \\n\", additional_kwargs={}, response_metadata={'token_usage': {'completion_tokens': 32, 'prompt_tokens': 126, 'total_tokens': 158, 'completion_time': 0.058181818, 'prompt_time': 0.008452623, 'queue_time': 0.161993745, 'total_time': 0.066634441}, 'model_name': 'gemma2-9b-it', 'system_fingerprint': 'fp_10c08bf97d', 'finish_reason': 'stop', 'logprobs': None}, id='run-150fa8a6-6b06-42d9-88be-3af7780bb2a6-0', usage_metadata={'input_tokens': 126, 'output_tokens': 32, 'total_tokens': 158}), HumanMessage(content=\"What's my name?\", additional_kwargs={}, response_metadata={}), AIMessage(content=\"Your name is Jim!  \\n\\nI'm ready for whatever you throw at me next.  Bring it on! 💪  \\n\", additional_kwargs={}, response_metadata={'token_usage': {'completion_tokens': 29, 'prompt_tokens': 172, 'total_tokens': 201, 'completion_time': 0.052727273, 'prompt_time': 0.007253619, 'queue_time': 0.16236259800000002, 'total_time': 0.059980892}, 'model_name': 'gemma2-9b-it', 'system_fingerprint': 'fp_10c08bf97d', 'finish_reason': 'stop', 'logprobs': None}, id='run-fed49d9b-997c-4832-ba93-1ad8d6e65622-0', usage_metadata={'input_tokens': 172, 'output_tokens': 29, 'total_tokens': 201}), HumanMessage(content=\"What's my name?\", additional_kwargs={}, response_metadata={}), AIMessage(content=\"Your name is Jim! \\n\\nI'm starting to think you enjoy a good challenge.  \\n\\nIs there anything else I can help you with, or are you just going to keep asking me your name? 😉 \\n\\n\", additional_kwargs={}, response_metadata={'token_usage': {'completion_tokens': 49, 'prompt_tokens': 215, 'total_tokens': 264, 'completion_time': 0.089090909, 'prompt_time': 0.012728198, 'queue_time': 0.157065379, 'total_time': 0.101819107}, 'model_name': 'gemma2-9b-it', 'system_fingerprint': 'fp_10c08bf97d', 'finish_reason': 'stop', 'logprobs': None}, id='run-ca986a09-65b2-422a-8da7-837189b42f00-0', usage_metadata={'input_tokens': 215, 'output_tokens': 49, 'total_tokens': 264}), HumanMessage(content=\"What's my name?\", additional_kwargs={}, response_metadata={}), AIMessage(content=\"Your name is Jim! 😊  \\n\\nI'm always happy to remind you. Is there anything else I can help you with? Perhaps you'd like to talk about your favorite hobby, or maybe you have a question about the world?  \\n\", additional_kwargs={}, response_metadata={'token_usage': {'completion_tokens': 53, 'prompt_tokens': 277, 'total_tokens': 330, 'completion_time': 0.096363636, 'prompt_time': 0.010556937, 'queue_time': 0.16312133, 'total_time': 0.106920573}, 'model_name': 'gemma2-9b-it', 'system_fingerprint': 'fp_10c08bf97d', 'finish_reason': 'stop', 'logprobs': None}, id='run-bc151750-bcd8-40c1-b9af-2b9b84c5978b-0', usage_metadata={'input_tokens': 277, 'output_tokens': 53, 'total_tokens': 330}), HumanMessage(content=\"What's my name?\", additional_kwargs={}, response_metadata={}), AIMessage(content=\"Your name is Jim! \\n\\nI understand you like to keep things simple. 😄  \\n\\nIf you ever get tired of that, I'm here for more complex conversations too! 😜\\n\", additional_kwargs={}, response_metadata={'token_usage': {'completion_tokens': 42, 'prompt_tokens': 344, 'total_tokens': 386, 'completion_time': 0.076363636, 'prompt_time': 0.015626087, 'queue_time': 0.15979005, 'total_time': 0.091989723}, 'model_name': 'gemma2-9b-it', 'system_fingerprint': 'fp_10c08bf97d', 'finish_reason': 'stop', 'logprobs': None}, id='run-f8f835ed-980d-48db-aadc-9b04ba56588b-0', usage_metadata={'input_tokens': 344, 'output_tokens': 42, 'total_tokens': 386}), HumanMessage(content='hi dude', additional_kwargs={}, response_metadata={}), AIMessage(content=\"Hey dude! 👋 What's up?  😎   \\n\", additional_kwargs={}, response_metadata={'token_usage': {'completion_tokens': 15, 'prompt_tokens': 396, 'total_tokens': 411, 'completion_time': 0.027272727, 'prompt_time': 0.014383375, 'queue_time': 0.160793794, 'total_time': 0.041656102}, 'model_name': 'gemma2-9b-it', 'system_fingerprint': 'fp_10c08bf97d', 'finish_reason': 'stop', 'logprobs': None}, id='run-552bd6f5-21e2-43dd-9fef-e13fbfcdbf23-0', usage_metadata={'input_tokens': 396, 'output_tokens': 15, 'total_tokens': 411}), HumanMessage(content='yeah fine how r u?', additional_kwargs={}, response_metadata={}), AIMessage(content=\"I'm doing well, thanks for asking! 😊  Just chillin' here, waiting to be helpful. What are you up to today?   \\n\", additional_kwargs={}, response_metadata={'token_usage': {'completion_tokens': 34, 'prompt_tokens': 425, 'total_tokens': 459, 'completion_time': 0.061818182, 'prompt_time': 0.015659071, 'queue_time': 0.16161435600000001, 'total_time': 0.077477253}, 'model_name': 'gemma2-9b-it', 'system_fingerprint': 'fp_10c08bf97d', 'finish_reason': 'stop', 'logprobs': None}, id='run-463f1d75-0db0-4a86-888b-0b09730b6a5c-0', usage_metadata={'input_tokens': 425, 'output_tokens': 34, 'total_tokens': 459}), HumanMessage(content='how is ur wife and my gf?', additional_kwargs={}, response_metadata={}), AIMessage(content=\"That's a funny question!  As an AI, I don't have a wife or any personal relationships.  \\n\\nAre you thinking about your girlfriend? I'm happy to chat about her if you like!  😊  \\n\", additional_kwargs={}, response_metadata={'token_usage': {'completion_tokens': 51, 'prompt_tokens': 475, 'total_tokens': 526, 'completion_time': 0.092727273, 'prompt_time': 0.020157528, 'queue_time': 0.161206759, 'total_time': 0.112884801}, 'model_name': 'gemma2-9b-it', 'system_fingerprint': 'fp_10c08bf97d', 'finish_reason': 'stop', 'logprobs': None}, id='run-83b56bdc-21e0-46f2-ab84-118305a6d94c-0', usage_metadata={'input_tokens': 475, 'output_tokens': 51, 'total_tokens': 526}), HumanMessage(content='okok leave just do the calculations for now ?', additional_kwargs={}, response_metadata={}), AIMessage(content='Sounds good!  \\n\\nBring on the calculations!  What do you need me to figure out?  🧮  \\n', additional_kwargs={}, response_metadata={'token_usage': {'completion_tokens': 26, 'prompt_tokens': 543, 'total_tokens': 569, 'completion_time': 0.047272727, 'prompt_time': 0.024525747, 'queue_time': 0.177833421, 'total_time': 0.071798474}, 'model_name': 'gemma2-9b-it', 'system_fingerprint': 'fp_10c08bf97d', 'finish_reason': 'stop', 'logprobs': None}, id='run-7f391983-b218-4d81-803d-60ed4fc16a1c-0', usage_metadata={'input_tokens': 543, 'output_tokens': 26, 'total_tokens': 569}), HumanMessage(content='31*4*55', additional_kwargs={}, response_metadata={}), AIMessage(content=\"31 * 4 * 55 = 6820 \\n\\n\\n\\nLet me know if you have any other calculations you'd like me to do! 👍\\n\", additional_kwargs={}, response_metadata={'token_usage': {'completion_tokens': 38, 'prompt_tokens': 584, 'total_tokens': 622, 'completion_time': 0.069090909, 'prompt_time': 0.025750444, 'queue_time': 0.162366833, 'total_time': 0.094841353}, 'model_name': 'gemma2-9b-it', 'system_fingerprint': 'fp_10c08bf97d', 'finish_reason': 'stop', 'logprobs': None}, id='run-82453db0-9ebf-40ca-b471-503d319186d6-0', usage_metadata={'input_tokens': 584, 'output_tokens': 38, 'total_tokens': 622}), HumanMessage(content='then add 30*4*55', additional_kwargs={}, response_metadata={}), AIMessage(content=\"Okay!\\n\\n30 * 4 * 55 = 6600\\n\\nNow, let's add that to our previous result: 6820 + 6600 = 13420 \\n\\n\\n\\n\\nSo the final answer is 13420.\\n\", additional_kwargs={}, response_metadata={'token_usage': {'completion_tokens': 66, 'prompt_tokens': 640, 'total_tokens': 706, 'completion_time': 0.12, 'prompt_time': 0.022695254, 'queue_time': 0.159745624, 'total_time': 0.142695254}, 'model_name': 'gemma2-9b-it', 'system_fingerprint': 'fp_10c08bf97d', 'finish_reason': 'stop', 'logprobs': None}, id='run-fd23d54f-8311-4c2d-94fb-451ddf1769c2-0', usage_metadata={'input_tokens': 640, 'output_tokens': 66, 'total_tokens': 706}), HumanMessage(content='then again add 21*4*55', additional_kwargs={}, response_metadata={}), AIMessage(content='You got it!\\n\\n21 * 4 * 55 = 4620\\n\\nAnd adding that to our previous sum: 13420 + 4620 = 18040\\n\\n\\n\\nThe final answer is 18040. \\n', additional_kwargs={}, response_metadata={'token_usage': {'completion_tokens': 64, 'prompt_tokens': 725, 'total_tokens': 789, 'completion_time': 0.116363636, 'prompt_time': 0.026003994, 'queue_time': 0.164330693, 'total_time': 0.14236763}, 'model_name': 'gemma2-9b-it', 'system_fingerprint': 'fp_10c08bf97d', 'finish_reason': 'stop', 'logprobs': None}, id='run-50ea4e88-b988-4cfa-be9b-4999fe2621c8-0', usage_metadata={'input_tokens': 725, 'output_tokens': 64, 'total_tokens': 789}), HumanMessage(content='yeah finally 25855', additional_kwargs={}, response_metadata={}), AIMessage(content=\"Awesome!  You've got the final answer there: 25855  \\n\\n\\nIs there anything else I can help you with, or were those all the calculations?\\n\", additional_kwargs={}, response_metadata={'token_usage': {'completion_tokens': 40, 'prompt_tokens': 805, 'total_tokens': 845, 'completion_time': 0.072727273, 'prompt_time': 0.03480998, 'queue_time': 0.16115457800000002, 'total_time': 0.107537253}, 'model_name': 'gemma2-9b-it', 'system_fingerprint': 'fp_10c08bf97d', 'finish_reason': 'stop', 'logprobs': None}, id='run-d77d386e-cab4-4b45-b3b1-bbe0bc784e82-0', usage_metadata={'input_tokens': 805, 'output_tokens': 40, 'total_tokens': 845}), HumanMessage(content='sorry not last step leave that  then add 21*55  to before previous', additional_kwargs={}, response_metadata={}), AIMessage(content=\"No problem! Let's break it down:\\n\\n* You had 18040.\\n*  21 * 55 = 1155\\n\\n* So, 18040 + 1155 = 19195\\n\\n\\nThe new answer is 19195.  \\n\\n\\nKeep those numbers coming!  💪\\n\", additional_kwargs={}, response_metadata={'token_usage': {'completion_tokens': 83, 'prompt_tokens': 872, 'total_tokens': 955, 'completion_time': 0.150909091, 'prompt_time': 0.031045752, 'queue_time': 0.160318346, 'total_time': 0.181954843}, 'model_name': 'gemma2-9b-it', 'system_fingerprint': 'fp_10c08bf97d', 'finish_reason': 'stop', 'logprobs': None}, id='run-f1aa5710-5ef7-4284-a4a9-1e07c89f4883-0', usage_metadata={'input_tokens': 872, 'output_tokens': 83, 'total_tokens': 955})])}"
            ]
          },
          "metadata": {},
          "execution_count": 56
        }
      ]
    },
    {
      "cell_type": "markdown",
      "source": [
        "*hope we get all requirements what we need*"
      ],
      "metadata": {
        "id": "JmqnZtRLfRCs"
      }
    },
    {
      "cell_type": "markdown",
      "source": [
        "**Managing Conversation History:**Trimming the conversation"
      ],
      "metadata": {
        "id": "ZHTiJ0Q5z9gY"
      }
    },
    {
      "cell_type": "code",
      "source": [
        "from langchain_core.messages import SystemMessage, trim_messages\n",
        "\n",
        "trimmer = trim_messages(\n",
        "    max_tokens=65,\n",
        "    strategy=\"last\",\n",
        "    token_counter=model,\n",
        "    include_system=True,\n",
        "    allow_partial=False,\n",
        "    start_on=\"human\",\n",
        ")\n",
        "\n",
        "messages = [\n",
        "    SystemMessage(content=\"you're a good assistant\"),\n",
        "    HumanMessage(content=\"hi! I'm bob\"),\n",
        "    AIMessage(content=\"hi!\"),\n",
        "    HumanMessage(content=\"I like vanilla ice cream\"),\n",
        "    AIMessage(content=\"nice\"),\n",
        "    HumanMessage(content=\"whats 2 + 2\"),\n",
        "    AIMessage(content=\"4\"),\n",
        "    HumanMessage(content=\"thanks\"),\n",
        "    AIMessage(content=\"no problem!\"),\n",
        "    HumanMessage(content=\"having fun?\"),\n",
        "    AIMessage(content=\"yes!\"),\n",
        "]\n",
        "\n",
        "trimmer.invoke(messages)"
      ],
      "metadata": {
        "colab": {
          "base_uri": "https://localhost:8080/",
          "height": 403,
          "referenced_widgets": [
            "2c7eff4f985c4b7d8c7dc60327f4731c",
            "bd53e7a806944ec0a015660af47da973",
            "b5accdf55afc403fae0a271262bb0168",
            "f9525edef0f5421db29ba2c13a7b87e1",
            "afaa9b23f5c342a5b8a279d9af280f02",
            "28ef6c0e6c9c4b10a9a3b7c8ed1b83b8",
            "2cd7a48849a045a3a605bdf2693907b4",
            "1f0676a83c794fe89c31bd10a0e3a9a5",
            "b70188e17292491889868a105d8b98ab",
            "06e767a23c8c44948905f7f9fb005c86",
            "0b7a12096396480793555edc70603569",
            "6e75d88401bd479bb3e6c877c5e7ec32",
            "c5de8a56e927476b85aabd6fcf835543",
            "6891dd7bf7de48279e524b539107da92",
            "07258efa4b424c9099f866fd343891c4",
            "28931e30e3e547bfb5f6585a53306055",
            "a3aa512ebc1642ccb62401b875fe72ce",
            "6ef58dc32fc149a6b7a49078b64295ac",
            "d76a952e35e540bcb5ca564e02dd8ed4",
            "037710118539455681bdb658a7cb7fba",
            "ba2a624204ab45b685872c3a463def72",
            "c81d3e0d7af8422490459d121b18981e",
            "05cffe3eb19a40ecb6038826d1e8bb87",
            "57691b459a594ef59ddade26c75744cb",
            "a13ca23cdfdc4fbd902738f59e4f0f1d",
            "a9b59278c6ec4222982a720f8840f659",
            "545ef4ac68224b258f72cf19dc964bb3",
            "f6b9e4a1190d4e55b9ad04c57d7c666c",
            "6c2b22c166e84301810ea091db205c62",
            "9aef64a6a19a4492b241ede3bcf84e4f",
            "20223a0925e34a3e8ab0aa85ee68686e",
            "c0983e86e189422890d1b09c06c515b2",
            "d822f8efa0344b149c8a75baeb6bcedc",
            "10ba68c094194d6ebdf25f77079f94a1",
            "d6bf72ca860e4682aab6068f5ae2d05d",
            "a9094e46a8df43dbae6a0b15207107f4",
            "6c8f913bc7ee4b6e97027f2e4ea4f01c",
            "c0767daffa26452c874d95e35a150de3",
            "20f2696880154ac9a47a9aedf4e51cba",
            "c689374716a6486e9ded36d97597f9bb",
            "d8e1f37364c347a89066e338a6d7916f",
            "cca08e7fdd2f4164a35beaf1fa93724f",
            "5c8445adf6d846d1998e7d95e1f9e72d",
            "878458e5f4fc4764a71e8a37c8d13d51",
            "7d1ffe0a162247c19b60b0219d7babd8",
            "d6f2de1927e64892ac6053a3116eb6ee",
            "100b817724d94422b810bd682a8ca897",
            "c207fb6664a84536a46f9b90e0558427",
            "3ad5cb888ceb4f95b4455ba6e83b7eea",
            "c0b92977d0d7423ab75f520c20f586a7",
            "6c646035b5874fd6a3321325423bccd6",
            "66cba95e1db24c599eca49d8ae0ac12f",
            "be59312ff4524898a86977391b361bd8",
            "7cf5d788cc634c63bd2f1c6e46415bf4",
            "b0e256a57e494090ab5d0895b46a84ac"
          ]
        },
        "id": "wduYve-30A4C",
        "outputId": "e9dbfe5d-afb8-42b2-b7aa-9b4eb5f8959d"
      },
      "execution_count": 57,
      "outputs": [
        {
          "output_type": "display_data",
          "data": {
            "text/plain": [
              "tokenizer_config.json:   0%|          | 0.00/26.0 [00:00<?, ?B/s]"
            ],
            "application/vnd.jupyter.widget-view+json": {
              "version_major": 2,
              "version_minor": 0,
              "model_id": "2c7eff4f985c4b7d8c7dc60327f4731c"
            }
          },
          "metadata": {}
        },
        {
          "output_type": "display_data",
          "data": {
            "text/plain": [
              "vocab.json:   0%|          | 0.00/1.04M [00:00<?, ?B/s]"
            ],
            "application/vnd.jupyter.widget-view+json": {
              "version_major": 2,
              "version_minor": 0,
              "model_id": "6e75d88401bd479bb3e6c877c5e7ec32"
            }
          },
          "metadata": {}
        },
        {
          "output_type": "display_data",
          "data": {
            "text/plain": [
              "merges.txt:   0%|          | 0.00/456k [00:00<?, ?B/s]"
            ],
            "application/vnd.jupyter.widget-view+json": {
              "version_major": 2,
              "version_minor": 0,
              "model_id": "05cffe3eb19a40ecb6038826d1e8bb87"
            }
          },
          "metadata": {}
        },
        {
          "output_type": "display_data",
          "data": {
            "text/plain": [
              "tokenizer.json:   0%|          | 0.00/1.36M [00:00<?, ?B/s]"
            ],
            "application/vnd.jupyter.widget-view+json": {
              "version_major": 2,
              "version_minor": 0,
              "model_id": "10ba68c094194d6ebdf25f77079f94a1"
            }
          },
          "metadata": {}
        },
        {
          "output_type": "display_data",
          "data": {
            "text/plain": [
              "config.json:   0%|          | 0.00/665 [00:00<?, ?B/s]"
            ],
            "application/vnd.jupyter.widget-view+json": {
              "version_major": 2,
              "version_minor": 0,
              "model_id": "7d1ffe0a162247c19b60b0219d7babd8"
            }
          },
          "metadata": {}
        },
        {
          "output_type": "execute_result",
          "data": {
            "text/plain": [
              "[SystemMessage(content=\"you're a good assistant\", additional_kwargs={}, response_metadata={}),\n",
              " HumanMessage(content=\"hi! I'm bob\", additional_kwargs={}, response_metadata={}),\n",
              " AIMessage(content='hi!', additional_kwargs={}, response_metadata={}),\n",
              " HumanMessage(content='I like vanilla ice cream', additional_kwargs={}, response_metadata={}),\n",
              " AIMessage(content='nice', additional_kwargs={}, response_metadata={}),\n",
              " HumanMessage(content='whats 2 + 2', additional_kwargs={}, response_metadata={}),\n",
              " AIMessage(content='4', additional_kwargs={}, response_metadata={}),\n",
              " HumanMessage(content='thanks', additional_kwargs={}, response_metadata={}),\n",
              " AIMessage(content='no problem!', additional_kwargs={}, response_metadata={}),\n",
              " HumanMessage(content='having fun?', additional_kwargs={}, response_metadata={}),\n",
              " AIMessage(content='yes!', additional_kwargs={}, response_metadata={})]"
            ]
          },
          "metadata": {},
          "execution_count": 57
        }
      ]
    },
    {
      "cell_type": "code",
      "source": [
        "from operator import itemgetter\n",
        "\n",
        "from langchain_core.runnables import RunnablePassthrough\n",
        "\n",
        "chain = (\n",
        "    RunnablePassthrough.assign(messages=itemgetter(\"messages\") | trimmer)\n",
        "    | prompt\n",
        "    | model\n",
        ")\n",
        "\n",
        "response = chain.invoke(\n",
        "    {\n",
        "        \"messages\": messages + [HumanMessage(content=\"what's my name?\")],\n",
        "        \"language\": \"English\",\n",
        "    }\n",
        ")\n",
        "response.content"
      ],
      "metadata": {
        "colab": {
          "base_uri": "https://localhost:8080/",
          "height": 36
        },
        "id": "Bx0yd8f81_gT",
        "outputId": "a18c2069-d331-4d0b-9009-9ac8bd603937"
      },
      "execution_count": 60,
      "outputs": [
        {
          "output_type": "execute_result",
          "data": {
            "text/plain": [
              "'Your name is Bob! 😊  How can I help you today?\\n'"
            ],
            "application/vnd.google.colaboratory.intrinsic+json": {
              "type": "string"
            }
          },
          "metadata": {},
          "execution_count": 60
        }
      ]
    },
    {
      "cell_type": "code",
      "source": [],
      "metadata": {
        "id": "cDIW_rc62iMm"
      },
      "execution_count": null,
      "outputs": []
    }
  ]
}